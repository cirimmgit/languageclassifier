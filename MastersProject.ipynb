{
  "cells": [
    {
      "cell_type": "markdown",
      "metadata": {
        "id": "_4cpuvR4ewV5"
      },
      "source": [
        "Import Dependencies"
      ]
    },
    {
      "cell_type": "code",
      "execution_count": null,
      "metadata": {
        "id": "oksQe17HeWBn"
      },
      "outputs": [],
      "source": [
        "from keras.models import Sequential, load_model\n",
        "from keras.layers import SimpleRNN, Activation, Dense, Flatten, Dropout, LSTM, TextVectorization, Embedding, Bidirectional\n",
        "from keras.utils import Sequence\n",
        "import numpy as np\n",
        "import tensorflow as tf\n",
        "import random\n",
        "import pandas as pd\n",
        "import csv\n",
        "from google.colab import drive\n",
        "from sklearn.model_selection import train_test_split\n",
        "from sklearn.utils import shuffle\n",
        "from keras.utils import to_categorical\n",
        "import matplotlib.pyplot as plt\n",
        "import sys\n",
        "\n",
        "\n",
        "all_inputs_raw = [\"da_dataset.txt\",\n",
        "                  \"de_dataset.txt\",\n",
        "                  \"en_dataset.txt\",\n",
        "                  \"eo_dataset.txt\",\n",
        "                  \"es_dataset.txt\",\n",
        "                  \"fr_dataset.txt\",\n",
        "                  \"it_dataset.txt\",\n",
        "                  \"la_dataset.txt\",\n",
        "                  \"ru_dataset.txt\",\n",
        "                  \"sv_dataset.txt\"\n",
        "                  ]\n",
        "all_input_files = [\"da_dataset_shuffled_full_cleaned.txt\",\n",
        "                   \"de_dataset_shuffled_full_cleaned.txt\",\n",
        "                   \"en_dataset_shuffled_full_cleaned.txt\",\n",
        "                   \"eo_dataset_shuffled_full_cleaned.txt\",\n",
        "                   \"es_dataset_shuffled_full_cleaned.txt\",\n",
        "                   \"fr_dataset_shuffled_full_cleaned.txt\",\n",
        "                   \"it_dataset_shuffled_full_cleaned.txt\",\n",
        "                   \"la_dataset_shuffled_full_cleaned.txt\",\n",
        "                   \"ru_dataset_shuffled_full_cleaned.txt\",\n",
        "                   \"sv_dataset_shuffled_full_cleaned.txt\",]"
      ]
    },
    {
      "cell_type": "markdown",
      "source": [
        "Dataset Formatting: Convert .dic to .txt (Not Mandatory)"
      ],
      "metadata": {
        "id": "ZGd4iv-Vx2Gf"
      }
    },
    {
      "cell_type": "code",
      "source": [
        "def dic_to_txt_50(dic_file_path, txt_file_path):\n",
        "    try:\n",
        "        # Open the .dic file in read mode with ISO-8859-1 encoding\n",
        "        with open(dic_file_path, 'r') as dic_file:\n",
        "            # Initialize an empty list to hold the first 50 lines that match the encoding\n",
        "            valid_lines = []\n",
        "\n",
        "            # Read lines from the file, checking for encoding compatibility\n",
        "            for _ in range(50):\n",
        "                line = dic_file.readline()\n",
        "                # Check if we have reached the end of the file\n",
        "                if not line:\n",
        "                    break\n",
        "\n",
        "                try:\n",
        "                    # Attempt to encode the line in ISO-8859-1\n",
        "                    line.encode('ISO-8859-1')\n",
        "                    # If successful, convert it to lowercase and add to the list\n",
        "                    valid_lines.append(line.lower())\n",
        "                except UnicodeEncodeError:\n",
        "                    # If a UnicodeEncodeError occurs, skip the line as it contains characters\n",
        "                    # that do not conform to ISO-8859-1 encoding\n",
        "                    continue\n",
        "\n",
        "            # Open the .txt file in write mode with UTF-8 encoding\n",
        "            with open(txt_file_path, 'w', encoding='utf-8') as txt_file:\n",
        "                # Write the valid lines to the .txt file\n",
        "                txt_file.writelines(valid_lines)\n",
        "\n",
        "        print(\"Conversion successful! The first 50 valid lines have been saved to:\", txt_file_path)\n",
        "    except Exception as e:\n",
        "        print(\"An error occurred:\", str(e))\n",
        "\n",
        "dic_to_txt_50('sa-Latn.dic', 'hi_wordlist.txt')"
      ],
      "metadata": {
        "colab": {
          "base_uri": "https://localhost:8080/"
        },
        "id": "yVCJcn5IsvsQ",
        "outputId": "d4a97aa8-5ec1-4b7c-adb8-b9c62aadd3f8"
      },
      "execution_count": null,
      "outputs": [
        {
          "output_type": "stream",
          "name": "stdout",
          "text": [
            "Conversion successful! The first 50 valid lines have been saved to: hi_wordlist.txt\n"
          ]
        }
      ]
    },
    {
      "cell_type": "code",
      "source": [
        "def dic_to_txt_all(dic_file_path, txt_file_path):\n",
        "    try:\n",
        "        # Open the .dic file in read mode with ISO-8859-1 encoding\n",
        "        with open(dic_file_path, 'r', encoding='ISO-8859-1') as dic_file:\n",
        "            # Initialize an empty list to hold lines that match the encoding\n",
        "            valid_lines = []\n",
        "\n",
        "            # Read lines from the file, checking for encoding compatibility\n",
        "            while True:\n",
        "                line = dic_file.readline()\n",
        "                # Check if we have reached the end of the file\n",
        "                if not line:\n",
        "                    break\n",
        "\n",
        "                try:\n",
        "                    # Attempt to encode the line in ISO-8859-1\n",
        "                    line.encode('ISO-8859-1')\n",
        "                    # If successful, convert it to lowercase and add to the list\n",
        "                    valid_lines.append(line.lower())\n",
        "                except UnicodeEncodeError:\n",
        "                    # If a UnicodeEncodeError occurs, skip the line as it contains characters\n",
        "                    # that do not conform to ISO-8859-1 encoding\n",
        "                    continue\n",
        "\n",
        "            # Open the .txt file in write mode with UTF-8 encoding\n",
        "            with open(txt_file_path, 'w', encoding='utf-8') as txt_file:\n",
        "                # Write the valid lines to the .txt file\n",
        "                txt_file.writelines(valid_lines)\n",
        "\n",
        "        print(\"Conversion successful! All valid lines have been saved to:\", txt_file_path)\n",
        "    except Exception as e:\n",
        "        print(\"An error occurred:\", str(e))\n",
        "\n",
        "dic_to_txt_all('sa-Latn.dic', 'hi_wordlist.txt')"
      ],
      "metadata": {
        "colab": {
          "base_uri": "https://localhost:8080/"
        },
        "id": "nf5bO_qGx5eN",
        "outputId": "5da74dc3-2ba2-4e70-ee56-f53825d5e29e"
      },
      "execution_count": null,
      "outputs": [
        {
          "output_type": "stream",
          "name": "stdout",
          "text": [
            "Conversion successful! All valid lines have been saved to: hi_wordlist.txt\n"
          ]
        }
      ]
    },
    {
      "cell_type": "markdown",
      "metadata": {
        "id": "YwqdPjiKswQd"
      },
      "source": [
        "Dataset Formatting: Parse JSON files to get raw txt file of words (Not Mandatory)"
      ]
    },
    {
      "cell_type": "code",
      "execution_count": null,
      "metadata": {
        "colab": {
          "base_uri": "https://localhost:8080/"
        },
        "id": "LNHJ4xRokwhn",
        "outputId": "6c90ebd7-1d8b-4bbd-db9c-17271b220d24"
      },
      "outputs": [
        {
          "name": "stdout",
          "output_type": "stream",
          "text": [
            "Input file not found\n"
          ]
        }
      ],
      "source": [
        "import json\n",
        "\n",
        "def json_list_to_text(input_json_file, output_txt_file):\n",
        "    try:\n",
        "        with open(input_json_file, 'r', encoding='utf-8') as infile:\n",
        "            json_list = json.load(infile)\n",
        "\n",
        "            longest_item = None  # Initialize a variable to store the longest item\n",
        "            with open(output_txt_file, 'w', encoding='utf-8') as outfile:\n",
        "                for item in json_list:\n",
        "                    try:\n",
        "                        # Convert the element to a string, remove quotation marks and commas\n",
        "                        item_str = json.dumps(item, indent=4, ensure_ascii=False).replace('\"', '').replace(',', '')\n",
        "                        outfile.write(item_str + '\\n')\n",
        "\n",
        "                        # Check if the current item is longer than the longest item\n",
        "                        if longest_item is None or len(item_str) > len(longest_item):\n",
        "                            longest_item = item_str\n",
        "                    except json.JSONDecodeError as e:\n",
        "                        # Handle JSON decode error by skipping the problematic element\n",
        "                        print(f\"JSON decode error: {str(e)}. Skipping the problematic element.\")\n",
        "\n",
        "            # Print the longest item\n",
        "            print(f\"Longest item:\\n{longest_item}\")\n",
        "\n",
        "            return f\"Data written to {output_txt_file}\"\n",
        "    except FileNotFoundError:\n",
        "        return \"Input file not found\"\n",
        "\n",
        "# Example usage:\n",
        "input_json_file = \"index_es.json\"       # Replace with the path to your JSON list file\n",
        "output_txt_file = \"output.txt\"      # Replace with the desired output text file\n",
        "\n",
        "result = json_list_to_text(input_json_file, output_txt_file)\n",
        "print(result)"
      ]
    },
    {
      "cell_type": "markdown",
      "source": [
        "Normalize Text Characters (Optional)"
      ],
      "metadata": {
        "id": "8SYQ47Kf9dtw"
      }
    },
    {
      "cell_type": "code",
      "source": [
        "\n",
        "def cleanup_txt_normalize(inputFile, outputFile):\n",
        "    unique_words = set()  # Create a set to keep track of unique normalized words\n",
        "\n",
        "    with open(inputFile, 'r', encoding='utf-8') as f:\n",
        "        lines = f.readlines()\n",
        "\n",
        "    with open(outputFile, 'w', encoding='utf-8') as f:\n",
        "        for line in lines:\n",
        "            words = line.split()\n",
        "            for word in words:\n",
        "                normalized_word = unicodedata.normalize('NFKC', word).encode('ASCII', 'ignore')\n",
        "                normalized_word = normalized_word.lower()\n",
        "\n",
        "                # Check if the normalized word is already in the set\n",
        "                if normalized_word and normalized_word not in unique_words:\n",
        "                    unique_words.add(normalized_word)  # Add the normalized word to the set\n",
        "                    f.write(normalized_word + '\\n')  # Write the word followed by a newline\n",
        "\n",
        "cleanup_txt_normalize(\"hi_wordlist.txt\", \"hi_dataset.txt\")"
      ],
      "metadata": {
        "id": "e2tYW3l4vvEg"
      },
      "execution_count": null,
      "outputs": []
    },
    {
      "cell_type": "markdown",
      "metadata": {
        "id": "vATL1AeDv2kU"
      },
      "source": [
        "Shuffle Words (Required, Choose either full or non-full)"
      ]
    },
    {
      "cell_type": "code",
      "source": [
        "def shuffle_and_extract_words_full(input_files):\n",
        "    for input_file in input_files:\n",
        "        # Open the input file for reading\n",
        "        with open(input_file, 'r') as file:\n",
        "            lines = file.readlines()\n",
        "\n",
        "        random.shuffle(lines)\n",
        "\n",
        "        output_file = input_file.replace('.txt', '_shuffled_full.txt')\n",
        "\n",
        "        with open(output_file, 'w') as output:\n",
        "            output.writelines(list(map(lambda x: x.lower(), lines)))\n",
        "\n",
        "        print(f\"Shuffled words (full) have been written to '{output_file}'\")\n",
        "\n",
        "shuffle_and_extract_words_full(all_inputs_raw)"
      ],
      "metadata": {
        "colab": {
          "base_uri": "https://localhost:8080/"
        },
        "id": "dTwyMrUErlZ4",
        "outputId": "677af5a1-cb23-4eb1-ce84-469ba1a540f1"
      },
      "execution_count": null,
      "outputs": [
        {
          "output_type": "stream",
          "name": "stdout",
          "text": [
            "Shuffled words (full) have been written to 'da_dataset_shuffled_full.txt'\n",
            "Shuffled words (full) have been written to 'de_dataset_shuffled_full.txt'\n",
            "Shuffled words (full) have been written to 'en_dataset_shuffled_full.txt'\n",
            "Shuffled words (full) have been written to 'eo_dataset_shuffled_full.txt'\n",
            "Shuffled words (full) have been written to 'es_dataset_shuffled_full.txt'\n",
            "Shuffled words (full) have been written to 'fr_dataset_shuffled_full.txt'\n",
            "Shuffled words (full) have been written to 'it_dataset_shuffled_full.txt'\n",
            "Shuffled words (full) have been written to 'la_dataset_shuffled_full.txt'\n",
            "Shuffled words (full) have been written to 'ru_dataset_shuffled_full.txt'\n",
            "Shuffled words (full) have been written to 'sv_dataset_shuffled_full.txt'\n"
          ]
        }
      ]
    },
    {
      "cell_type": "code",
      "execution_count": null,
      "metadata": {
        "colab": {
          "base_uri": "https://localhost:8080/",
          "height": 373
        },
        "id": "_LIrtCEMv4v6",
        "outputId": "c7a146ba-458d-47b1-9f50-da4647adcb1d"
      },
      "outputs": [
        {
          "output_type": "stream",
          "name": "stdout",
          "text": [
            "Shuffled words have been written to 'da_dataset_shuffled_v2.txt'\n"
          ]
        },
        {
          "output_type": "error",
          "ename": "KeyboardInterrupt",
          "evalue": "",
          "traceback": [
            "\u001b[0;31m---------------------------------------------------------------------------\u001b[0m",
            "\u001b[0;31mKeyboardInterrupt\u001b[0m                         Traceback (most recent call last)",
            "\u001b[0;32m<ipython-input-8-a863e2db6758>\u001b[0m in \u001b[0;36m<cell line: 24>\u001b[0;34m()\u001b[0m\n\u001b[1;32m     22\u001b[0m \u001b[0;34m\u001b[0m\u001b[0m\n\u001b[1;32m     23\u001b[0m \u001b[0;34m\u001b[0m\u001b[0m\n\u001b[0;32m---> 24\u001b[0;31m \u001b[0mshuffle_and_extract_words\u001b[0m\u001b[0;34m(\u001b[0m\u001b[0mall_inputs_raw\u001b[0m\u001b[0;34m,\u001b[0m \u001b[0;36m15\u001b[0m\u001b[0;34m)\u001b[0m\u001b[0;34m\u001b[0m\u001b[0;34m\u001b[0m\u001b[0m\n\u001b[0m",
            "\u001b[0;32m<ipython-input-8-a863e2db6758>\u001b[0m in \u001b[0;36mshuffle_and_extract_words\u001b[0;34m(input_files, max_chars)\u001b[0m\n\u001b[1;32m     10\u001b[0m \u001b[0;34m\u001b[0m\u001b[0m\n\u001b[1;32m     11\u001b[0m         \u001b[0;32mif\u001b[0m \u001b[0mmax_chars\u001b[0m \u001b[0;34m>\u001b[0m \u001b[0;36m0\u001b[0m\u001b[0;34m:\u001b[0m\u001b[0;34m\u001b[0m\u001b[0;34m\u001b[0m\u001b[0m\n\u001b[0;32m---> 12\u001b[0;31m           \u001b[0mfiltered_lines\u001b[0m \u001b[0;34m=\u001b[0m \u001b[0;34m[\u001b[0m\u001b[0mline\u001b[0m \u001b[0;32mfor\u001b[0m \u001b[0mline\u001b[0m \u001b[0;32min\u001b[0m \u001b[0mlines\u001b[0m \u001b[0;32mif\u001b[0m \u001b[0mlen\u001b[0m\u001b[0;34m(\u001b[0m\u001b[0mline\u001b[0m\u001b[0;34m)\u001b[0m \u001b[0;34m<=\u001b[0m \u001b[0mmax_chars\u001b[0m\u001b[0;34m]\u001b[0m\u001b[0;34m\u001b[0m\u001b[0;34m\u001b[0m\u001b[0m\n\u001b[0m\u001b[1;32m     13\u001b[0m         \u001b[0;32melse\u001b[0m\u001b[0;34m:\u001b[0m\u001b[0;34m\u001b[0m\u001b[0;34m\u001b[0m\u001b[0m\n\u001b[1;32m     14\u001b[0m           \u001b[0mfiltered_lines\u001b[0m \u001b[0;34m=\u001b[0m \u001b[0mlines\u001b[0m\u001b[0;34m\u001b[0m\u001b[0;34m\u001b[0m\u001b[0m\n",
            "\u001b[0;32m<ipython-input-8-a863e2db6758>\u001b[0m in \u001b[0;36m<listcomp>\u001b[0;34m(.0)\u001b[0m\n\u001b[1;32m     10\u001b[0m \u001b[0;34m\u001b[0m\u001b[0m\n\u001b[1;32m     11\u001b[0m         \u001b[0;32mif\u001b[0m \u001b[0mmax_chars\u001b[0m \u001b[0;34m>\u001b[0m \u001b[0;36m0\u001b[0m\u001b[0;34m:\u001b[0m\u001b[0;34m\u001b[0m\u001b[0;34m\u001b[0m\u001b[0m\n\u001b[0;32m---> 12\u001b[0;31m           \u001b[0mfiltered_lines\u001b[0m \u001b[0;34m=\u001b[0m \u001b[0;34m[\u001b[0m\u001b[0mline\u001b[0m \u001b[0;32mfor\u001b[0m \u001b[0mline\u001b[0m \u001b[0;32min\u001b[0m \u001b[0mlines\u001b[0m \u001b[0;32mif\u001b[0m \u001b[0mlen\u001b[0m\u001b[0;34m(\u001b[0m\u001b[0mline\u001b[0m\u001b[0;34m)\u001b[0m \u001b[0;34m<=\u001b[0m \u001b[0mmax_chars\u001b[0m\u001b[0;34m]\u001b[0m\u001b[0;34m\u001b[0m\u001b[0;34m\u001b[0m\u001b[0m\n\u001b[0m\u001b[1;32m     13\u001b[0m         \u001b[0;32melse\u001b[0m\u001b[0;34m:\u001b[0m\u001b[0;34m\u001b[0m\u001b[0;34m\u001b[0m\u001b[0m\n\u001b[1;32m     14\u001b[0m           \u001b[0mfiltered_lines\u001b[0m \u001b[0;34m=\u001b[0m \u001b[0mlines\u001b[0m\u001b[0;34m\u001b[0m\u001b[0;34m\u001b[0m\u001b[0m\n",
            "\u001b[0;31mKeyboardInterrupt\u001b[0m: "
          ]
        }
      ],
      "source": [
        "def shuffle_and_extract_words(input_files):\n",
        "    for input_file in input_files:\n",
        "        # Open the input file for reading\n",
        "        with open(input_file, 'r') as file:\n",
        "            lines = file.readlines()\n",
        "\n",
        "        random.shuffle(lines)\n",
        "\n",
        "        output_file = input_file.replace('.txt', '_shuffled_v2.txt')\n",
        "\n",
        "        shuffled_words = lines[:200_000]\n",
        "\n",
        "        with open(output_file, 'w') as output:\n",
        "            output.writelines(list(map(lambda x: x.lower(),shuffled_words)))\n",
        "\n",
        "        print(f\"Shuffled words have been written to '{output_file}'\")\n",
        "\n",
        "\n",
        "shuffle_and_extract_words(all_inputs_raw)"
      ]
    },
    {
      "cell_type": "markdown",
      "source": [
        "Clean up .txt (Mandatory)"
      ],
      "metadata": {
        "id": "hy8umsOdktJP"
      }
    },
    {
      "cell_type": "code",
      "source": [
        "def cleanup_txt_files(input_files, char_limit=0):\n",
        "    for inputFile in input_files:\n",
        "        unique_words = set()  # Set to keep track of unique words\n",
        "        longest_word = \"\"  # Variable to store the longest word\n",
        "        longest_length = 0  # Variable to store the length of the longest word\n",
        "\n",
        "        # Generate output file name\n",
        "        outputFile = inputFile.replace('.txt', '_cleaned.txt')\n",
        "\n",
        "        with open(inputFile, 'r', encoding='utf-8') as f:\n",
        "            lines = f.readlines()\n",
        "\n",
        "        with open(outputFile, 'w', encoding='utf-8') as f:\n",
        "            for line in lines:\n",
        "                # Eliminate lines that contain spaces\n",
        "                if ' ' not in line:\n",
        "                    words = line.split()\n",
        "                    for word in words:\n",
        "                      if char_limit > 0:\n",
        "                        if len(word) > char_limit:\n",
        "                            continue\n",
        "                      # Remove unwanted characters and convert to lowercase\n",
        "                      cleaned_word = ''.join(char for char in word if char.isalpha()).lower()\n",
        "\n",
        "                      # Update longest word if necessary\n",
        "                      if len(cleaned_word) > longest_length:\n",
        "                          longest_word = cleaned_word\n",
        "                          longest_length = len(cleaned_word)\n",
        "\n",
        "                      # Check if the word is already in the set\n",
        "                      if cleaned_word and cleaned_word not in unique_words:\n",
        "                          unique_words.add(cleaned_word)  # Add the word to the set\n",
        "                          f.write(cleaned_word + '\\n')  # Write the word followed by a newline\n",
        "\n",
        "        # Print processed file, created file, and the longest word with its length\n",
        "        print(f\"Processed '{inputFile}', created '{outputFile}'. Longest word: '{longest_word}' Length: {longest_length}\")\n",
        "\n",
        "\n",
        "input_files_cleanup = ['da_dataset_shuffled_full.txt', 'de_dataset_shuffled_full.txt', 'en_dataset_shuffled_full.txt', 'eo_dataset_shuffled_full.txt', 'es_dataset_shuffled_full.txt', 'fr_dataset_shuffled_full.txt', 'it_dataset_shuffled_full.txt', 'la_dataset_shuffled_full.txt', 'ru_dataset_shuffled_full.txt', 'sv_dataset_shuffled_full.txt',]\n",
        "cleanup_txt_files(input_files_cleanup, 15)\n"
      ],
      "metadata": {
        "id": "_UvKACc5kwPP",
        "colab": {
          "base_uri": "https://localhost:8080/"
        },
        "outputId": "5d4e5388-b04b-42a5-e525-6d4ba3b757c3"
      },
      "execution_count": null,
      "outputs": [
        {
          "output_type": "stream",
          "name": "stdout",
          "text": [
            "Processed 'da_dataset_shuffled_full.txt', created 'da_dataset_shuffled_full_cleaned.txt'. Longest word: 'designlisternes' Length: 15\n",
            "Processed 'de_dataset_shuffled_full.txt', created 'de_dataset_shuffled_full_cleaned.txt'. Longest word: 'nebelkammerbild' Length: 15\n",
            "Processed 'en_dataset_shuffled_full.txt', created 'en_dataset_shuffled_full_cleaned.txt'. Longest word: 'nondepreciative' Length: 15\n",
            "Processed 'eo_dataset_shuffled_full.txt', created 'eo_dataset_shuffled_full_cleaned.txt'. Longest word: 'definitiviĝadon' Length: 15\n",
            "Processed 'es_dataset_shuffled_full.txt', created 'es_dataset_shuffled_full_cleaned.txt'. Longest word: 'desincentivabas' Length: 15\n",
            "Processed 'fr_dataset_shuffled_full.txt', created 'fr_dataset_shuffled_full_cleaned.txt'. Longest word: 'dépontillassiez' Length: 15\n",
            "Processed 'it_dataset_shuffled_full.txt', created 'it_dataset_shuffled_full_cleaned.txt'. Longest word: 'testurizzazione' Length: 15\n",
            "Processed 'la_dataset_shuffled_full.txt', created 'la_dataset_shuffled_full_cleaned.txt'. Longest word: 'conclamitaretis' Length: 15\n",
            "Processed 'ru_dataset_shuffled_full.txt', created 'ru_dataset_shuffled_full_cleaned.txt'. Longest word: 'почувствоваться' Length: 15\n",
            "Processed 'sv_dataset_shuffled_full.txt', created 'sv_dataset_shuffled_full_cleaned.txt'. Longest word: 'traditionstyngd' Length: 15\n"
          ]
        }
      ]
    },
    {
      "cell_type": "markdown",
      "metadata": {
        "id": "jfLfS7G0BY48"
      },
      "source": [
        "Get a list of every unique character in the datasets (Required)"
      ]
    },
    {
      "cell_type": "code",
      "source": [
        "def get_unique_characters(file_paths):\n",
        "    unique_chars = set()\n",
        "\n",
        "    for file_path in file_paths:\n",
        "        try:\n",
        "            with open(file_path, 'r') as file:\n",
        "                for line in file:\n",
        "                    # Remove whitespace and newline characters\n",
        "                    line = line.strip()\n",
        "\n",
        "                    # Add each character to the set\n",
        "                    unique_chars.update(line)\n",
        "\n",
        "        except FileNotFoundError:\n",
        "            print(f\"File '{file_path}' not found.\")\n",
        "\n",
        "    return unique_chars\n",
        "\n",
        "\n",
        "unique_characters = get_unique_characters(all_input_files)\n",
        "alphabet = ''.join(sorted(unique_characters))\n",
        "print(alphabet)\n",
        "\n"
      ],
      "metadata": {
        "colab": {
          "base_uri": "https://localhost:8080/"
        },
        "id": "OO8ajWutzxRE",
        "outputId": "e210eb1c-6ff6-4486-e0f2-f00479da7498"
      },
      "execution_count": null,
      "outputs": [
        {
          "output_type": "stream",
          "name": "stdout",
          "text": [
            "abcdefghijklmnopqrstuvwxyzµßàáâãäåæçèéêëìíîïñòóôöøùúûüÿĉĝĥĵŝŭμυабвгдежзийклмнопрстуфхцчшщъыьэюяёі\n"
          ]
        }
      ]
    },
    {
      "cell_type": "markdown",
      "metadata": {
        "id": "QOEJ9tnXsd4i"
      },
      "source": [
        "Find Duplicate Words (Not Mandatory)"
      ]
    },
    {
      "cell_type": "code",
      "execution_count": null,
      "metadata": {
        "colab": {
          "base_uri": "https://localhost:8080/"
        },
        "id": "78Vg4jktsdL0",
        "outputId": "059686f3-7a7b-4ab2-fa08-5530e1ea508e"
      },
      "outputs": [
        {
          "output_type": "stream",
          "name": "stdout",
          "text": [
            "Percentage of common words between 'da' 'de': 0.99%\n",
            "Percentage of common words between 'da' 'en': 1.87%\n",
            "Percentage of common words between 'da' 'eo': 0.30%\n",
            "Percentage of common words between 'da' 'es': 0.38%\n",
            "Percentage of common words between 'da' 'fr': 0.95%\n",
            "Percentage of common words between 'da' 'it': 0.65%\n",
            "Percentage of common words between 'da' 'la': 0.31%\n",
            "Percentage of common words between 'da' 'ru': 0.00%\n",
            "Percentage of common words between 'da' 'sv': 3.69%\n",
            "Percentage of common words between 'de' 'en': 1.00%\n",
            "Percentage of common words between 'de' 'eo': 0.15%\n",
            "Percentage of common words between 'de' 'es': 0.22%\n",
            "Percentage of common words between 'de' 'fr': 0.42%\n",
            "Percentage of common words between 'de' 'it': 0.51%\n",
            "Percentage of common words between 'de' 'la': 0.17%\n",
            "Percentage of common words between 'de' 'ru': 0.00%\n",
            "Percentage of common words between 'de' 'sv': 0.63%\n",
            "Percentage of common words between 'en' 'eo': 0.38%\n",
            "Percentage of common words between 'en' 'es': 1.15%\n",
            "Percentage of common words between 'en' 'fr': 2.63%\n",
            "Percentage of common words between 'en' 'it': 1.59%\n",
            "Percentage of common words between 'en' 'la': 1.07%\n",
            "Percentage of common words between 'en' 'ru': 0.00%\n",
            "Percentage of common words between 'en' 'sv': 0.96%\n",
            "Percentage of common words between 'eo' 'es': 0.54%\n",
            "Percentage of common words between 'eo' 'fr': 0.23%\n",
            "Percentage of common words between 'eo' 'it': 0.54%\n",
            "Percentage of common words between 'eo' 'la': 0.35%\n",
            "Percentage of common words between 'eo' 'ru': 0.00%\n",
            "Percentage of common words between 'eo' 'sv': 0.22%\n",
            "Percentage of common words between 'es' 'fr': 0.89%\n",
            "Percentage of common words between 'es' 'it': 1.79%\n",
            "Percentage of common words between 'es' 'la': 1.25%\n",
            "Percentage of common words between 'es' 'ru': 0.00%\n",
            "Percentage of common words between 'es' 'sv': 0.26%\n",
            "Percentage of common words between 'fr' 'it': 0.95%\n",
            "Percentage of common words between 'fr' 'la': 0.56%\n",
            "Percentage of common words between 'fr' 'ru': 0.00%\n",
            "Percentage of common words between 'fr' 'sv': 0.50%\n",
            "Percentage of common words between 'it' 'la': 1.69%\n",
            "Percentage of common words between 'it' 'ru': 0.00%\n",
            "Percentage of common words between 'it' 'sv': 0.33%\n",
            "Percentage of common words between 'la' 'ru': 0.00%\n",
            "Percentage of common words between 'la' 'sv': 0.15%\n",
            "Percentage of common words between 'ru' 'sv': 0.00%\n"
          ]
        }
      ],
      "source": [
        "def find_common_words(all_input_files):\n",
        "    for i in range(len(all_input_files)):\n",
        "        for j in range(i + 1, len(all_input_files)):\n",
        "            file1_path = all_input_files[i]\n",
        "            file2_path = all_input_files[j]\n",
        "            output_file_path = f'common_words_{i}_{j}.txt'\n",
        "\n",
        "            with open(file1_path, 'r') as file1, open(file2_path, 'r') as file2:\n",
        "                words1 = set(file1.read().splitlines())\n",
        "                words2 = set(file2.read().splitlines())\n",
        "\n",
        "            # Find common words\n",
        "            common_words = words1.intersection(words2)\n",
        "\n",
        "            total_words1 = len(words1)\n",
        "            total_words2 = len(words2)\n",
        "            total_common_words = len(common_words)\n",
        "            percent_common = (total_common_words / (total_words1 + total_words2)) * 100\n",
        "\n",
        "            print(f\"Percentage of common words between '{file1_path[:2]}' '{file2_path[:2]}': {percent_common:.2f}%\")\n",
        "\n",
        "find_common_words(all_input_files)"
      ]
    },
    {
      "cell_type": "markdown",
      "source": [
        "Remove Common Words (Optional)"
      ],
      "metadata": {
        "id": "jyAa6NWj9_-y"
      }
    },
    {
      "cell_type": "code",
      "source": [
        "def remove_common_words(all_input_files):\n",
        "    # Step 1: Find all common words across all pairs of files\n",
        "    all_common_words = set()\n",
        "    for i in range(len(all_input_files)):\n",
        "        for j in range(i + 1, len(all_input_files)):\n",
        "            file1_path = all_input_files[i]\n",
        "            file2_path = all_input_files[j]\n",
        "\n",
        "            with open(file1_path, 'r') as file1, open(file2_path, 'r') as file2:\n",
        "                words1 = set(file1.read().splitlines())\n",
        "                words2 = set(file2.read().splitlines())\n",
        "\n",
        "            common_words = words1.intersection(words2)\n",
        "            all_common_words.update(common_words)\n",
        "\n",
        "    # Step 2: Remove common words from each file\n",
        "    for file_path in all_input_files:\n",
        "        with open(file_path, 'r') as file:\n",
        "            words = file.read().splitlines()\n",
        "\n",
        "        # Remove common words\n",
        "        cleaned_words = [word for word in words if word not in all_common_words]\n",
        "\n",
        "        #output_file = file_path.replace('.txt', '_removed_duplicates.txt')\n",
        "        # Write cleaned words back to the file\n",
        "        with open(file_path, 'w') as file:\n",
        "            for word in cleaned_words:\n",
        "                file.write(word + '\\n')\n",
        "\n",
        "        print(f\"Common words have been removed from '{file_path}'\")\n",
        "\n",
        "remove_common_words(all_input_files)"
      ],
      "metadata": {
        "colab": {
          "base_uri": "https://localhost:8080/"
        },
        "id": "3sM474RE9-3o",
        "outputId": "9c8fe13f-48b7-4af6-9fd4-401cfc2f6da1"
      },
      "execution_count": null,
      "outputs": [
        {
          "output_type": "stream",
          "name": "stdout",
          "text": [
            "Common words have been removed from 'da_dataset_shuffled_full_cleaned.txt'\n",
            "Common words have been removed from 'de_dataset_shuffled_full_cleaned.txt'\n",
            "Common words have been removed from 'en_dataset_shuffled_full_cleaned.txt'\n",
            "Common words have been removed from 'eo_dataset_shuffled_full_cleaned.txt'\n",
            "Common words have been removed from 'es_dataset_shuffled_full_cleaned.txt'\n",
            "Common words have been removed from 'fr_dataset_shuffled_full_cleaned.txt'\n",
            "Common words have been removed from 'it_dataset_shuffled_full_cleaned.txt'\n",
            "Common words have been removed from 'la_dataset_shuffled_full_cleaned.txt'\n",
            "Common words have been removed from 'ru_dataset_shuffled_full_cleaned.txt'\n",
            "Common words have been removed from 'sv_dataset_shuffled_full_cleaned.txt'\n"
          ]
        }
      ]
    },
    {
      "cell_type": "markdown",
      "metadata": {
        "id": "s6kPujIVteY9"
      },
      "source": [
        "Find Longest Word (Required)"
      ]
    },
    {
      "cell_type": "code",
      "execution_count": null,
      "metadata": {
        "colab": {
          "base_uri": "https://localhost:8080/"
        },
        "id": "90sb8_5-thR3",
        "outputId": "dd122af1-1c46-4c0b-c5fc-25d687e016fe"
      },
      "outputs": [
        {
          "output_type": "stream",
          "name": "stdout",
          "text": [
            "The longest word in da_dataset_shuffled_full_cleaned.txt is 'designlisternes' with 15 characters.\n",
            "The longest word in de_dataset_shuffled_full_cleaned.txt is 'nebelkammerbild' with 15 characters.\n",
            "The longest word in en_dataset_shuffled_full_cleaned.txt is 'nondepreciative' with 15 characters.\n",
            "The longest word in eo_dataset_shuffled_full_cleaned.txt is 'definitiviĝadon' with 15 characters.\n",
            "The longest word in es_dataset_shuffled_full_cleaned.txt is 'desincentivabas' with 15 characters.\n",
            "The longest word in fr_dataset_shuffled_full_cleaned.txt is 'dépontillassiez' with 15 characters.\n",
            "The longest word in it_dataset_shuffled_full_cleaned.txt is 'testurizzazione' with 15 characters.\n",
            "The longest word in la_dataset_shuffled_full_cleaned.txt is 'conclamitaretis' with 15 characters.\n",
            "The longest word in ru_dataset_shuffled_full_cleaned.txt is 'почувствоваться' with 15 characters.\n",
            "The longest word in sv_dataset_shuffled_full_cleaned.txt is 'traditionstyngd' with 15 characters.\n",
            "designlisternes\n",
            "15\n"
          ]
        }
      ],
      "source": [
        "def get_longest_word_in_file(file_path):\n",
        "\n",
        "    longest_word = \"\"\n",
        "\n",
        "    with open(file_path, 'r', encoding='utf-8') as file:\n",
        "        for line in file:\n",
        "            word = line.strip()\n",
        "            if len(word) > len(longest_word):\n",
        "                longest_word = word\n",
        "\n",
        "    return longest_word\n",
        "\n",
        "def find_longest_word_in_files(file_paths):\n",
        "\n",
        "    overall_longest_word = \"\"\n",
        "\n",
        "    for file_path in file_paths:\n",
        "      longest_word = get_longest_word_in_file(file_path)\n",
        "      print(f\"The longest word in {file_path} is '{longest_word}' with {len(longest_word)} characters.\")\n",
        "\n",
        "      if len(longest_word) > len(overall_longest_word):\n",
        "          overall_longest_word = longest_word\n",
        "\n",
        "    return overall_longest_word\n",
        "\n",
        "\n",
        "overall_longest_word = find_longest_word_in_files(all_input_files)\n",
        "\n",
        "print(overall_longest_word)\n",
        "print(len(overall_longest_word))\n",
        "max_word_length = len(overall_longest_word)"
      ]
    },
    {
      "cell_type": "markdown",
      "metadata": {
        "id": "BQPwqUehic7B"
      },
      "source": [
        "Format Text Database (Required)"
      ]
    },
    {
      "cell_type": "code",
      "execution_count": null,
      "metadata": {
        "colab": {
          "base_uri": "https://localhost:8080/"
        },
        "id": "BEM3ewgtibNg",
        "outputId": "97b1a692-31ad-418e-9ce2-e1dcd11ab2cb"
      },
      "outputs": [
        {
          "output_type": "stream",
          "name": "stdout",
          "text": [
            "Character 't' is represented as one-hot vector: [0, 0, 0, 0, 0, 0, 0, 0, 0, 0, 0, 0, 0, 0, 0, 0, 0, 0, 0, 1, 0, 0, 0, 0, 0, 0, 0, 0, 0, 0, 0, 0, 0, 0, 0, 0, 0, 0, 0, 0, 0, 0, 0, 0, 0, 0, 0, 0, 0, 0, 0, 0, 0, 0, 0, 0, 0, 0, 0, 0, 0, 0, 0, 0, 0, 0, 0, 0, 0, 0, 0, 0, 0, 0, 0, 0, 0, 0, 0, 0, 0, 0, 0, 0, 0, 0, 0, 0, 0, 0, 0, 0, 0, 0, 0, 0, 0]\n",
            "Character 'o' is represented as one-hot vector: [0, 0, 0, 0, 0, 0, 0, 0, 0, 0, 0, 0, 0, 0, 1, 0, 0, 0, 0, 0, 0, 0, 0, 0, 0, 0, 0, 0, 0, 0, 0, 0, 0, 0, 0, 0, 0, 0, 0, 0, 0, 0, 0, 0, 0, 0, 0, 0, 0, 0, 0, 0, 0, 0, 0, 0, 0, 0, 0, 0, 0, 0, 0, 0, 0, 0, 0, 0, 0, 0, 0, 0, 0, 0, 0, 0, 0, 0, 0, 0, 0, 0, 0, 0, 0, 0, 0, 0, 0, 0, 0, 0, 0, 0, 0, 0, 0]\n",
            "Character 'm' is represented as one-hot vector: [0, 0, 0, 0, 0, 0, 0, 0, 0, 0, 0, 0, 1, 0, 0, 0, 0, 0, 0, 0, 0, 0, 0, 0, 0, 0, 0, 0, 0, 0, 0, 0, 0, 0, 0, 0, 0, 0, 0, 0, 0, 0, 0, 0, 0, 0, 0, 0, 0, 0, 0, 0, 0, 0, 0, 0, 0, 0, 0, 0, 0, 0, 0, 0, 0, 0, 0, 0, 0, 0, 0, 0, 0, 0, 0, 0, 0, 0, 0, 0, 0, 0, 0, 0, 0, 0, 0, 0, 0, 0, 0, 0, 0, 0, 0, 0, 0]\n",
            "Character '_' is represented as one-hot vector: [0, 0, 0, 0, 0, 0, 0, 0, 0, 0, 0, 0, 0, 0, 0, 0, 0, 0, 0, 0, 0, 0, 0, 0, 0, 0, 0, 0, 0, 0, 0, 0, 0, 0, 0, 0, 0, 0, 0, 0, 0, 0, 0, 0, 0, 0, 0, 0, 0, 0, 0, 0, 0, 0, 0, 0, 0, 0, 0, 0, 0, 0, 0, 0, 0, 0, 0, 0, 0, 0, 0, 0, 0, 0, 0, 0, 0, 0, 0, 0, 0, 0, 0, 0, 0, 0, 0, 0, 0, 0, 0, 0, 0, 0, 0, 0, 0]\n",
            "Character '_' is represented as one-hot vector: [0, 0, 0, 0, 0, 0, 0, 0, 0, 0, 0, 0, 0, 0, 0, 0, 0, 0, 0, 0, 0, 0, 0, 0, 0, 0, 0, 0, 0, 0, 0, 0, 0, 0, 0, 0, 0, 0, 0, 0, 0, 0, 0, 0, 0, 0, 0, 0, 0, 0, 0, 0, 0, 0, 0, 0, 0, 0, 0, 0, 0, 0, 0, 0, 0, 0, 0, 0, 0, 0, 0, 0, 0, 0, 0, 0, 0, 0, 0, 0, 0, 0, 0, 0, 0, 0, 0, 0, 0, 0, 0, 0, 0, 0, 0, 0, 0]\n",
            "Character '_' is represented as one-hot vector: [0, 0, 0, 0, 0, 0, 0, 0, 0, 0, 0, 0, 0, 0, 0, 0, 0, 0, 0, 0, 0, 0, 0, 0, 0, 0, 0, 0, 0, 0, 0, 0, 0, 0, 0, 0, 0, 0, 0, 0, 0, 0, 0, 0, 0, 0, 0, 0, 0, 0, 0, 0, 0, 0, 0, 0, 0, 0, 0, 0, 0, 0, 0, 0, 0, 0, 0, 0, 0, 0, 0, 0, 0, 0, 0, 0, 0, 0, 0, 0, 0, 0, 0, 0, 0, 0, 0, 0, 0, 0, 0, 0, 0, 0, 0, 0, 0]\n",
            "Character '_' is represented as one-hot vector: [0, 0, 0, 0, 0, 0, 0, 0, 0, 0, 0, 0, 0, 0, 0, 0, 0, 0, 0, 0, 0, 0, 0, 0, 0, 0, 0, 0, 0, 0, 0, 0, 0, 0, 0, 0, 0, 0, 0, 0, 0, 0, 0, 0, 0, 0, 0, 0, 0, 0, 0, 0, 0, 0, 0, 0, 0, 0, 0, 0, 0, 0, 0, 0, 0, 0, 0, 0, 0, 0, 0, 0, 0, 0, 0, 0, 0, 0, 0, 0, 0, 0, 0, 0, 0, 0, 0, 0, 0, 0, 0, 0, 0, 0, 0, 0, 0]\n",
            "Character '_' is represented as one-hot vector: [0, 0, 0, 0, 0, 0, 0, 0, 0, 0, 0, 0, 0, 0, 0, 0, 0, 0, 0, 0, 0, 0, 0, 0, 0, 0, 0, 0, 0, 0, 0, 0, 0, 0, 0, 0, 0, 0, 0, 0, 0, 0, 0, 0, 0, 0, 0, 0, 0, 0, 0, 0, 0, 0, 0, 0, 0, 0, 0, 0, 0, 0, 0, 0, 0, 0, 0, 0, 0, 0, 0, 0, 0, 0, 0, 0, 0, 0, 0, 0, 0, 0, 0, 0, 0, 0, 0, 0, 0, 0, 0, 0, 0, 0, 0, 0, 0]\n",
            "Character '_' is represented as one-hot vector: [0, 0, 0, 0, 0, 0, 0, 0, 0, 0, 0, 0, 0, 0, 0, 0, 0, 0, 0, 0, 0, 0, 0, 0, 0, 0, 0, 0, 0, 0, 0, 0, 0, 0, 0, 0, 0, 0, 0, 0, 0, 0, 0, 0, 0, 0, 0, 0, 0, 0, 0, 0, 0, 0, 0, 0, 0, 0, 0, 0, 0, 0, 0, 0, 0, 0, 0, 0, 0, 0, 0, 0, 0, 0, 0, 0, 0, 0, 0, 0, 0, 0, 0, 0, 0, 0, 0, 0, 0, 0, 0, 0, 0, 0, 0, 0, 0]\n",
            "Character '_' is represented as one-hot vector: [0, 0, 0, 0, 0, 0, 0, 0, 0, 0, 0, 0, 0, 0, 0, 0, 0, 0, 0, 0, 0, 0, 0, 0, 0, 0, 0, 0, 0, 0, 0, 0, 0, 0, 0, 0, 0, 0, 0, 0, 0, 0, 0, 0, 0, 0, 0, 0, 0, 0, 0, 0, 0, 0, 0, 0, 0, 0, 0, 0, 0, 0, 0, 0, 0, 0, 0, 0, 0, 0, 0, 0, 0, 0, 0, 0, 0, 0, 0, 0, 0, 0, 0, 0, 0, 0, 0, 0, 0, 0, 0, 0, 0, 0, 0, 0, 0]\n",
            "Character '_' is represented as one-hot vector: [0, 0, 0, 0, 0, 0, 0, 0, 0, 0, 0, 0, 0, 0, 0, 0, 0, 0, 0, 0, 0, 0, 0, 0, 0, 0, 0, 0, 0, 0, 0, 0, 0, 0, 0, 0, 0, 0, 0, 0, 0, 0, 0, 0, 0, 0, 0, 0, 0, 0, 0, 0, 0, 0, 0, 0, 0, 0, 0, 0, 0, 0, 0, 0, 0, 0, 0, 0, 0, 0, 0, 0, 0, 0, 0, 0, 0, 0, 0, 0, 0, 0, 0, 0, 0, 0, 0, 0, 0, 0, 0, 0, 0, 0, 0, 0, 0]\n",
            "Character '_' is represented as one-hot vector: [0, 0, 0, 0, 0, 0, 0, 0, 0, 0, 0, 0, 0, 0, 0, 0, 0, 0, 0, 0, 0, 0, 0, 0, 0, 0, 0, 0, 0, 0, 0, 0, 0, 0, 0, 0, 0, 0, 0, 0, 0, 0, 0, 0, 0, 0, 0, 0, 0, 0, 0, 0, 0, 0, 0, 0, 0, 0, 0, 0, 0, 0, 0, 0, 0, 0, 0, 0, 0, 0, 0, 0, 0, 0, 0, 0, 0, 0, 0, 0, 0, 0, 0, 0, 0, 0, 0, 0, 0, 0, 0, 0, 0, 0, 0, 0, 0]\n",
            "Character '_' is represented as one-hot vector: [0, 0, 0, 0, 0, 0, 0, 0, 0, 0, 0, 0, 0, 0, 0, 0, 0, 0, 0, 0, 0, 0, 0, 0, 0, 0, 0, 0, 0, 0, 0, 0, 0, 0, 0, 0, 0, 0, 0, 0, 0, 0, 0, 0, 0, 0, 0, 0, 0, 0, 0, 0, 0, 0, 0, 0, 0, 0, 0, 0, 0, 0, 0, 0, 0, 0, 0, 0, 0, 0, 0, 0, 0, 0, 0, 0, 0, 0, 0, 0, 0, 0, 0, 0, 0, 0, 0, 0, 0, 0, 0, 0, 0, 0, 0, 0, 0]\n",
            "Character '_' is represented as one-hot vector: [0, 0, 0, 0, 0, 0, 0, 0, 0, 0, 0, 0, 0, 0, 0, 0, 0, 0, 0, 0, 0, 0, 0, 0, 0, 0, 0, 0, 0, 0, 0, 0, 0, 0, 0, 0, 0, 0, 0, 0, 0, 0, 0, 0, 0, 0, 0, 0, 0, 0, 0, 0, 0, 0, 0, 0, 0, 0, 0, 0, 0, 0, 0, 0, 0, 0, 0, 0, 0, 0, 0, 0, 0, 0, 0, 0, 0, 0, 0, 0, 0, 0, 0, 0, 0, 0, 0, 0, 0, 0, 0, 0, 0, 0, 0, 0, 0]\n",
            "Character '_' is represented as one-hot vector: [0, 0, 0, 0, 0, 0, 0, 0, 0, 0, 0, 0, 0, 0, 0, 0, 0, 0, 0, 0, 0, 0, 0, 0, 0, 0, 0, 0, 0, 0, 0, 0, 0, 0, 0, 0, 0, 0, 0, 0, 0, 0, 0, 0, 0, 0, 0, 0, 0, 0, 0, 0, 0, 0, 0, 0, 0, 0, 0, 0, 0, 0, 0, 0, 0, 0, 0, 0, 0, 0, 0, 0, 0, 0, 0, 0, 0, 0, 0, 0, 0, 0, 0, 0, 0, 0, 0, 0, 0, 0, 0, 0, 0, 0, 0, 0, 0]\n",
            "tom\n",
            "[[0, 0, 0, 0, 0, 0, 0, 0, 0, 0, 0, 0, 0, 0, 0, 0, 0, 0, 0, 1, 0, 0, 0, 0, 0, 0, 0, 0, 0, 0, 0, 0, 0, 0, 0, 0, 0, 0, 0, 0, 0, 0, 0, 0, 0, 0, 0, 0, 0, 0, 0, 0, 0, 0, 0, 0, 0, 0, 0, 0, 0, 0, 0, 0, 0, 0, 0, 0, 0, 0, 0, 0, 0, 0, 0, 0, 0, 0, 0, 0, 0, 0, 0, 0, 0, 0, 0, 0, 0, 0, 0, 0, 0, 0, 0, 0, 0], [0, 0, 0, 0, 0, 0, 0, 0, 0, 0, 0, 0, 0, 0, 1, 0, 0, 0, 0, 0, 0, 0, 0, 0, 0, 0, 0, 0, 0, 0, 0, 0, 0, 0, 0, 0, 0, 0, 0, 0, 0, 0, 0, 0, 0, 0, 0, 0, 0, 0, 0, 0, 0, 0, 0, 0, 0, 0, 0, 0, 0, 0, 0, 0, 0, 0, 0, 0, 0, 0, 0, 0, 0, 0, 0, 0, 0, 0, 0, 0, 0, 0, 0, 0, 0, 0, 0, 0, 0, 0, 0, 0, 0, 0, 0, 0, 0], [0, 0, 0, 0, 0, 0, 0, 0, 0, 0, 0, 0, 1, 0, 0, 0, 0, 0, 0, 0, 0, 0, 0, 0, 0, 0, 0, 0, 0, 0, 0, 0, 0, 0, 0, 0, 0, 0, 0, 0, 0, 0, 0, 0, 0, 0, 0, 0, 0, 0, 0, 0, 0, 0, 0, 0, 0, 0, 0, 0, 0, 0, 0, 0, 0, 0, 0, 0, 0, 0, 0, 0, 0, 0, 0, 0, 0, 0, 0, 0, 0, 0, 0, 0, 0, 0, 0, 0, 0, 0, 0, 0, 0, 0, 0, 0, 0], [0, 0, 0, 0, 0, 0, 0, 0, 0, 0, 0, 0, 0, 0, 0, 0, 0, 0, 0, 0, 0, 0, 0, 0, 0, 0, 0, 0, 0, 0, 0, 0, 0, 0, 0, 0, 0, 0, 0, 0, 0, 0, 0, 0, 0, 0, 0, 0, 0, 0, 0, 0, 0, 0, 0, 0, 0, 0, 0, 0, 0, 0, 0, 0, 0, 0, 0, 0, 0, 0, 0, 0, 0, 0, 0, 0, 0, 0, 0, 0, 0, 0, 0, 0, 0, 0, 0, 0, 0, 0, 0, 0, 0, 0, 0, 0, 0], [0, 0, 0, 0, 0, 0, 0, 0, 0, 0, 0, 0, 0, 0, 0, 0, 0, 0, 0, 0, 0, 0, 0, 0, 0, 0, 0, 0, 0, 0, 0, 0, 0, 0, 0, 0, 0, 0, 0, 0, 0, 0, 0, 0, 0, 0, 0, 0, 0, 0, 0, 0, 0, 0, 0, 0, 0, 0, 0, 0, 0, 0, 0, 0, 0, 0, 0, 0, 0, 0, 0, 0, 0, 0, 0, 0, 0, 0, 0, 0, 0, 0, 0, 0, 0, 0, 0, 0, 0, 0, 0, 0, 0, 0, 0, 0, 0], [0, 0, 0, 0, 0, 0, 0, 0, 0, 0, 0, 0, 0, 0, 0, 0, 0, 0, 0, 0, 0, 0, 0, 0, 0, 0, 0, 0, 0, 0, 0, 0, 0, 0, 0, 0, 0, 0, 0, 0, 0, 0, 0, 0, 0, 0, 0, 0, 0, 0, 0, 0, 0, 0, 0, 0, 0, 0, 0, 0, 0, 0, 0, 0, 0, 0, 0, 0, 0, 0, 0, 0, 0, 0, 0, 0, 0, 0, 0, 0, 0, 0, 0, 0, 0, 0, 0, 0, 0, 0, 0, 0, 0, 0, 0, 0, 0], [0, 0, 0, 0, 0, 0, 0, 0, 0, 0, 0, 0, 0, 0, 0, 0, 0, 0, 0, 0, 0, 0, 0, 0, 0, 0, 0, 0, 0, 0, 0, 0, 0, 0, 0, 0, 0, 0, 0, 0, 0, 0, 0, 0, 0, 0, 0, 0, 0, 0, 0, 0, 0, 0, 0, 0, 0, 0, 0, 0, 0, 0, 0, 0, 0, 0, 0, 0, 0, 0, 0, 0, 0, 0, 0, 0, 0, 0, 0, 0, 0, 0, 0, 0, 0, 0, 0, 0, 0, 0, 0, 0, 0, 0, 0, 0, 0], [0, 0, 0, 0, 0, 0, 0, 0, 0, 0, 0, 0, 0, 0, 0, 0, 0, 0, 0, 0, 0, 0, 0, 0, 0, 0, 0, 0, 0, 0, 0, 0, 0, 0, 0, 0, 0, 0, 0, 0, 0, 0, 0, 0, 0, 0, 0, 0, 0, 0, 0, 0, 0, 0, 0, 0, 0, 0, 0, 0, 0, 0, 0, 0, 0, 0, 0, 0, 0, 0, 0, 0, 0, 0, 0, 0, 0, 0, 0, 0, 0, 0, 0, 0, 0, 0, 0, 0, 0, 0, 0, 0, 0, 0, 0, 0, 0], [0, 0, 0, 0, 0, 0, 0, 0, 0, 0, 0, 0, 0, 0, 0, 0, 0, 0, 0, 0, 0, 0, 0, 0, 0, 0, 0, 0, 0, 0, 0, 0, 0, 0, 0, 0, 0, 0, 0, 0, 0, 0, 0, 0, 0, 0, 0, 0, 0, 0, 0, 0, 0, 0, 0, 0, 0, 0, 0, 0, 0, 0, 0, 0, 0, 0, 0, 0, 0, 0, 0, 0, 0, 0, 0, 0, 0, 0, 0, 0, 0, 0, 0, 0, 0, 0, 0, 0, 0, 0, 0, 0, 0, 0, 0, 0, 0], [0, 0, 0, 0, 0, 0, 0, 0, 0, 0, 0, 0, 0, 0, 0, 0, 0, 0, 0, 0, 0, 0, 0, 0, 0, 0, 0, 0, 0, 0, 0, 0, 0, 0, 0, 0, 0, 0, 0, 0, 0, 0, 0, 0, 0, 0, 0, 0, 0, 0, 0, 0, 0, 0, 0, 0, 0, 0, 0, 0, 0, 0, 0, 0, 0, 0, 0, 0, 0, 0, 0, 0, 0, 0, 0, 0, 0, 0, 0, 0, 0, 0, 0, 0, 0, 0, 0, 0, 0, 0, 0, 0, 0, 0, 0, 0, 0], [0, 0, 0, 0, 0, 0, 0, 0, 0, 0, 0, 0, 0, 0, 0, 0, 0, 0, 0, 0, 0, 0, 0, 0, 0, 0, 0, 0, 0, 0, 0, 0, 0, 0, 0, 0, 0, 0, 0, 0, 0, 0, 0, 0, 0, 0, 0, 0, 0, 0, 0, 0, 0, 0, 0, 0, 0, 0, 0, 0, 0, 0, 0, 0, 0, 0, 0, 0, 0, 0, 0, 0, 0, 0, 0, 0, 0, 0, 0, 0, 0, 0, 0, 0, 0, 0, 0, 0, 0, 0, 0, 0, 0, 0, 0, 0, 0], [0, 0, 0, 0, 0, 0, 0, 0, 0, 0, 0, 0, 0, 0, 0, 0, 0, 0, 0, 0, 0, 0, 0, 0, 0, 0, 0, 0, 0, 0, 0, 0, 0, 0, 0, 0, 0, 0, 0, 0, 0, 0, 0, 0, 0, 0, 0, 0, 0, 0, 0, 0, 0, 0, 0, 0, 0, 0, 0, 0, 0, 0, 0, 0, 0, 0, 0, 0, 0, 0, 0, 0, 0, 0, 0, 0, 0, 0, 0, 0, 0, 0, 0, 0, 0, 0, 0, 0, 0, 0, 0, 0, 0, 0, 0, 0, 0], [0, 0, 0, 0, 0, 0, 0, 0, 0, 0, 0, 0, 0, 0, 0, 0, 0, 0, 0, 0, 0, 0, 0, 0, 0, 0, 0, 0, 0, 0, 0, 0, 0, 0, 0, 0, 0, 0, 0, 0, 0, 0, 0, 0, 0, 0, 0, 0, 0, 0, 0, 0, 0, 0, 0, 0, 0, 0, 0, 0, 0, 0, 0, 0, 0, 0, 0, 0, 0, 0, 0, 0, 0, 0, 0, 0, 0, 0, 0, 0, 0, 0, 0, 0, 0, 0, 0, 0, 0, 0, 0, 0, 0, 0, 0, 0, 0], [0, 0, 0, 0, 0, 0, 0, 0, 0, 0, 0, 0, 0, 0, 0, 0, 0, 0, 0, 0, 0, 0, 0, 0, 0, 0, 0, 0, 0, 0, 0, 0, 0, 0, 0, 0, 0, 0, 0, 0, 0, 0, 0, 0, 0, 0, 0, 0, 0, 0, 0, 0, 0, 0, 0, 0, 0, 0, 0, 0, 0, 0, 0, 0, 0, 0, 0, 0, 0, 0, 0, 0, 0, 0, 0, 0, 0, 0, 0, 0, 0, 0, 0, 0, 0, 0, 0, 0, 0, 0, 0, 0, 0, 0, 0, 0, 0], [0, 0, 0, 0, 0, 0, 0, 0, 0, 0, 0, 0, 0, 0, 0, 0, 0, 0, 0, 0, 0, 0, 0, 0, 0, 0, 0, 0, 0, 0, 0, 0, 0, 0, 0, 0, 0, 0, 0, 0, 0, 0, 0, 0, 0, 0, 0, 0, 0, 0, 0, 0, 0, 0, 0, 0, 0, 0, 0, 0, 0, 0, 0, 0, 0, 0, 0, 0, 0, 0, 0, 0, 0, 0, 0, 0, 0, 0, 0, 0, 0, 0, 0, 0, 0, 0, 0, 0, 0, 0, 0, 0, 0, 0, 0, 0, 0]]\n"
          ]
        }
      ],
      "source": [
        "\n",
        "def char_to_one_hot(char):\n",
        "\n",
        "    one_hot = [0] * len(alphabet)\n",
        "    if char.lower() in alphabet:\n",
        "        index = alphabet.index(char.lower())\n",
        "        one_hot[index] = 1\n",
        "    return one_hot\n",
        "\n",
        "def word_to_one_hot(word):\n",
        "    vector_size = max_word_length\n",
        "    result = []\n",
        "    for char in word:\n",
        "        one_hot = char_to_one_hot(char)\n",
        "        result.append(one_hot)\n",
        "\n",
        "    while len(result) < vector_size:\n",
        "        result.append([0] * len(alphabet))\n",
        "\n",
        "    return result\n",
        "\n",
        "def one_hot_to_word(one_hot_vector):\n",
        "    word = ''\n",
        "\n",
        "    for vector in one_hot_vector:\n",
        "      if 1 in vector:\n",
        "        index = vector.index(1)\n",
        "        word += alphabet[index]\n",
        "\n",
        "    return word\n",
        "\n",
        "word = \"tom\"\n",
        "two_d_vector = word_to_one_hot(word)\n",
        "word_recalculated = one_hot_to_word(two_d_vector)\n",
        "\n",
        "\n",
        "# Print the 2D vector\n",
        "for i, sub_vector in enumerate(two_d_vector):\n",
        "    if (i >= len(word)):\n",
        "      print(f\"Character '_' is represented as one-hot vector: {sub_vector}\")\n",
        "    else:\n",
        "      print(f\"Character '{word[i]}' is represented as one-hot vector: {sub_vector}\")\n",
        "\n",
        "print(word_recalculated)\n",
        "print(two_d_vector)\n"
      ]
    },
    {
      "cell_type": "markdown",
      "metadata": {
        "id": "WHY4XULFIIDP"
      },
      "source": [
        "Save And Categorize Data, NPY Files (Required)\n",
        "\n",
        "Credit to https://medium.com/@mrgarg.rajat/training-on-large-datasets-that-dont-fit-in-memory-in-keras-60a974785d71\n"
      ]
    },
    {
      "cell_type": "code",
      "execution_count": null,
      "metadata": {
        "colab": {
          "base_uri": "https://localhost:8080/"
        },
        "id": "9J_f9v7MPw8A",
        "outputId": "b5832e29-d193-4db5-ef2b-bb1fe09f20b0"
      },
      "outputs": [
        {
          "output_type": "stream",
          "name": "stdout",
          "text": [
            "5787793\n",
            "(5787793, 10)\n"
          ]
        }
      ],
      "source": [
        "def generate_inputs_labels(input_files):\n",
        "  filenames_counter = 0\n",
        "  labels_counter = -1\n",
        "  word_vector = []\n",
        "  label_vectors = []\n",
        "\n",
        "  for file_index, input_file in enumerate(input_files):\n",
        "\n",
        "    with open(input_file, 'r') as file:\n",
        "      for line in file:\n",
        "        word = line.strip()\n",
        "        word_vector.append(word)\n",
        "        m = len(input_files)\n",
        "        label_vector = [0] * len(input_files)\n",
        "        label_vector[file_index] = 1\n",
        "        label_vectors.append(np.array(label_vector))\n",
        "\n",
        "  return word_vector, np.array(label_vectors)\n",
        "\n",
        "\n",
        "words, label_vectors = generate_inputs_labels(all_input_files)\n",
        "print(len(words))\n",
        "print(label_vectors.shape)\n",
        "np.save(\"words.npy\", words)\n",
        "np.save(\"y_labels_one_hot.npy\", label_vectors)"
      ]
    },
    {
      "cell_type": "markdown",
      "metadata": {
        "id": "ZWVAXkmBoLRN"
      },
      "source": [
        "Shuffle And Split Data (Required)"
      ]
    },
    {
      "cell_type": "code",
      "execution_count": null,
      "metadata": {
        "colab": {
          "base_uri": "https://localhost:8080/"
        },
        "id": "HLBfguJHoKwP",
        "outputId": "f18c8654-a937-4644-a678-bdced61ca801"
      },
      "outputs": [
        {
          "output_type": "stream",
          "name": "stdout",
          "text": [
            "Training:\n",
            "(3472675,)\n",
            "(3472675, 10)\n",
            "Testing:\n",
            "(1157559,)\n",
            "(1157559, 10)\n",
            "Validating:\n",
            "(1157559,)\n",
            "(1157559, 10)\n"
          ]
        }
      ],
      "source": [
        "words = np.load('words.npy')\n",
        "y_labels_one_hot = np.load('y_labels_one_hot.npy')\n",
        "words_shuffled, y_labels_one_hot_shuffled = shuffle(words, y_labels_one_hot)\n",
        "np.save('y_labels_one_hot_shuffled.npy', y_labels_one_hot_shuffled)\n",
        "np.save('words_shuffled.npy', words_shuffled)\n",
        "\n",
        "#print(np.load(\"words_shuffled.npy\"))\n",
        "#print(np.load(\"y_labels_one_hot_shuffled.npy\"))\n",
        "\n",
        "test_ratio = 0.4\n",
        "\n",
        "words_shuffled_numpy = np.array(words_shuffled)\n",
        "\n",
        "# Sort into training, and remainder\n",
        "X_train_words, X_remainder_words, y_train, y_remainder = train_test_split(\n",
        "    words_shuffled_numpy, y_labels_one_hot_shuffled, test_size=test_ratio, random_state=1)\n",
        "\n",
        "\n",
        "# Training data\n",
        "print(\"Training:\")\n",
        "print(X_train_words.shape)\n",
        "print(y_train.shape)\n",
        "\n",
        "# Sort remainder into testing and validation\n",
        "X_test_words, X_val_words, y_test, y_val = train_test_split(\n",
        "    X_remainder_words, y_remainder, test_size=0.5, random_state=1)\n",
        "\n",
        "\n",
        "# Test data\n",
        "print(\"Testing:\")\n",
        "print(X_test_words.shape)\n",
        "print(y_test.shape)\n",
        "# Validation data\n",
        "print(\"Validating:\")\n",
        "print(X_val_words.shape)\n",
        "print(y_val.shape)\n",
        "\n",
        "np.save('X_train_words.npy', X_train_words)\n",
        "np.save('y_train.npy', y_train)\n",
        "\n",
        "np.save('X_test_words.npy', X_test_words)\n",
        "np.save('y_test.npy', y_test)\n",
        "\n",
        "np.save('X_val_words.npy', X_val_words)\n",
        "np.save('y_val.npy', y_val)"
      ]
    },
    {
      "cell_type": "markdown",
      "metadata": {
        "id": "9TI8PCQcfScw"
      },
      "source": [
        "Create Generator (Required)"
      ]
    },
    {
      "cell_type": "code",
      "execution_count": null,
      "metadata": {
        "id": "xxFdyw06fUmT"
      },
      "outputs": [],
      "source": [
        "np.set_printoptions(threshold=sys.maxsize)\n",
        "\n",
        "class CustomGenerator(Sequence):\n",
        "\n",
        "  def __init__(self, words, labels, batch_size) :\n",
        "    self.words = words\n",
        "    self.labels = labels\n",
        "    self.batch_size = batch_size\n",
        "\n",
        "\n",
        "  def __len__(self) :\n",
        "    return (np.ceil(len(self.words) / float(self.batch_size))).astype(np.int)\n",
        "\n",
        "\n",
        "  def __getitem__(self, idx) :\n",
        "    batch_x = self.words[idx * self.batch_size : (idx+1) * self.batch_size]\n",
        "    batch_y = self.labels[idx * self.batch_size : (idx+1) * self.batch_size]\n",
        "\n",
        "\n",
        "    newVal = np.array([word_to_one_hot(word)\n",
        "               for word in batch_x])\n",
        "    newVal2 = np.array(batch_y)\n",
        "    with open(\"debug.txt\", 'a') as file:\n",
        "      if (newVal.dtype != np.dtype(np.int64)):\n",
        "        file.write(f\"batch_x shape: {newVal.shape}, type: {newVal.dtype}\")\n",
        "        file.write(\"\\n\")\n",
        "        file.write(f\"batch_y shape: {newVal2.shape}, type: {newVal2.dtype}\")\n",
        "        file.write(\"\\n\\n\")\n",
        "        file.write(str(batch_x))\n",
        "        file.write(str(newVal2))\n",
        "        file.write(str(newVal))\n",
        "        file.write(\"\\n\\n\")\n",
        "\n",
        "    return np.array([word_to_one_hot(word)\n",
        "               for word in batch_x]), np.array(batch_y)"
      ]
    },
    {
      "cell_type": "code",
      "execution_count": null,
      "metadata": {
        "colab": {
          "base_uri": "https://localhost:8080/"
        },
        "id": "fVlUkkOYGcfz",
        "outputId": "82f40c62-4825-45c0-cf5c-d9847755763e"
      },
      "outputs": [
        {
          "output_type": "stream",
          "name": "stdout",
          "text": [
            "(1, 344, 97)\n",
            "int64\n",
            "31\n"
          ]
        }
      ],
      "source": [
        "tempBatch = ['platonicien' 'marécageuses' 'extradict' 'fauns' 'transpositively'\n",
        " 'guser' 'encruelecian' 'semirelief' 'sciath' 'musiran' 'execrativo'\n",
        " 'endonareis' 'dichlorodiphenyltrichloroethane' 'brachyceral' 'avisaron'\n",
        " 'bannaient' 'emperlai' 'thuoc' 'homofona' 'falsificateurs' 'environnante'\n",
        " 'cyclonometer' 'diversifié' 'impardonnables' 'objurgations'\n",
        " 'interclasista' 'overidealize' 'circunnavegad' 'recalculassent'\n",
        " 'délaitée' 'bubbleless' 'folktale']\n",
        "\n",
        "tempVal = np.array([word_to_one_hot(word)\n",
        "               for word in tempBatch])\n",
        "\n",
        "print(tempVal.shape)\n",
        "print(tempVal.dtype)\n",
        "\n",
        "newArray = [[0, 0, 0, 0, 1, 0, 0, 0, 0, 0, 0, 0, 0, 0, 0, 0, 0, 0, 0, 0, 0, 0, 0, 0, 0, 0, 0, 0, 0, 0, 0, 0, 0, 0, 0, 0, 0, 0, 0, 0, 0, 0, 0], [0, 0, 0, 0, 0, 0, 0, 0, 0, 1, 0, 0, 0, 0, 0, 0, 0, 0, 0, 0, 0, 0, 0, 0, 0, 0, 0, 0, 0, 0, 0, 0, 0, 0, 0, 0, 0, 0, 0, 0, 0, 0, 0], [0, 0, 0, 1, 0, 0, 0, 0, 0, 0, 0, 0, 0, 0, 0, 0, 0, 0, 0, 0, 0, 0, 0, 0, 0, 0, 0, 0, 0, 0, 0, 0, 0, 0, 0, 0, 0, 0, 0, 0, 0, 0, 0], [0, 0, 0, 0, 0, 0, 0, 0, 1, 0, 0, 0, 0, 0, 0, 0, 0, 0, 0, 0, 0, 0, 0, 0, 0, 0, 0, 0, 0, 0, 0, 0, 0, 0, 0, 0, 0, 0, 0, 0, 0, 0, 0], [0, 0, 0, 0, 0, 0, 0, 0, 0, 0, 0, 0, 1, 0, 0, 0, 0, 0, 0, 0, 0, 0, 0, 0, 0, 0, 0, 0, 0, 0, 0, 0, 0, 0, 0, 0, 0, 0, 0, 0, 0, 0, 0], [0, 0, 0, 0, 0, 0, 0, 0, 0, 0, 0, 0, 0, 0, 0, 1, 0, 0, 0, 0, 0, 0, 0, 0, 0, 0, 0, 0, 0, 0, 0, 0, 0, 0, 0, 0, 0, 0, 0, 0, 0, 0, 0], [0, 0, 0, 0, 0, 0, 0, 0, 0, 0, 0, 0, 0, 0, 0, 0, 0, 0, 1, 0, 0, 0, 0, 0, 0, 0, 0, 0, 0, 0, 0, 0, 0, 0, 0, 0, 0, 0, 0, 0, 0, 0, 0], [0, 0, 0, 0, 0, 0, 0, 0, 0, 0, 0, 0, 0, 0, 0, 1, 0, 0, 0, 0, 0, 0, 0, 0, 0, 0, 0, 0, 0, 0, 0, 0, 0, 0, 0, 0, 0, 0, 0, 0, 0, 0, 0], [0, 0, 0, 0, 1, 0, 0, 0, 0, 0, 0, 0, 0, 0, 0, 0, 0, 0, 0, 0, 0, 0, 0, 0, 0, 0, 0, 0, 0, 0, 0, 0, 0, 0, 0, 0, 0, 0, 0, 0, 0, 0, 0], [0, 0, 0, 0, 0, 0, 0, 0, 0, 1, 0, 0, 0, 0, 0, 0, 0, 0, 0, 0, 0, 0, 0, 0, 0, 0, 0, 0, 0, 0, 0, 0, 0, 0, 0, 0, 0, 0, 0, 0, 0, 0, 0], [0, 0, 0, 0, 0, 0, 0, 0, 0, 0, 0, 0, 0, 0, 0, 0, 1, 0, 0, 0, 0, 0, 0, 0, 0, 0, 0, 0, 0, 0, 0, 0, 0, 0, 0, 0, 0, 0, 0, 0, 0, 0, 0], [0, 0, 0, 0, 0, 0, 0, 0, 1, 0, 0, 0, 0, 0, 0, 0, 0, 0, 0, 0, 0, 0, 0, 0, 0, 0, 0, 0, 0, 0, 0, 0, 0, 0, 0, 0, 0, 0, 0, 0, 0, 0, 0], [0, 0, 0, 0, 0, 1, 0, 0, 0, 0, 0, 0, 0, 0, 0, 0, 0, 0, 0, 0, 0, 0, 0, 0, 0, 0, 0, 0, 0, 0, 0, 0, 0, 0, 0, 0, 0, 0, 0, 0, 0, 0, 0], [0, 0, 0, 0, 0, 0, 0, 0, 0, 0, 0, 0, 0, 0, 1, 0, 0, 0, 0, 0, 0, 0, 0, 0, 0, 0, 0, 0, 0, 0, 0, 0, 0, 0, 0, 0, 0, 0, 0, 0, 0, 0, 0], [0, 0, 0, 0, 0, 0, 0, 0, 0, 0, 0, 0, 0, 0, 0, 0, 0, 0, 0, 0, 0, 0, 0, 0, 0, 1, 0, 0, 0, 0, 0, 0, 0, 0, 0, 0, 0, 0, 0, 0, 0, 0, 0], [0, 0, 0, 0, 0, 0, 0, 0, 0, 0, 0, 0, 1, 0, 0, 0, 0, 0, 0, 0, 0, 0, 0, 0, 0, 0, 0, 0, 0, 0, 0, 0, 0, 0, 0, 0, 0, 0, 0, 0, 0, 0, 0], [0, 0, 0, 0, 0, 0, 0, 0, 0, 0, 0, 0, 0, 0, 0, 0, 0, 0, 0, 0, 1, 0, 0, 0, 0, 0, 0, 0, 0, 0, 0, 0, 0, 0, 0, 0, 0, 0, 0, 0, 0, 0, 0], [0, 0, 0, 0, 0, 0, 0, 0, 0, 0, 0, 0, 0, 0, 0, 0, 0, 0, 1, 0, 0, 0, 0, 0, 0, 0, 0, 0, 0, 0, 0, 0, 0, 0, 0, 0, 0, 0, 0, 0, 0, 0, 0], [0, 0, 0, 0, 0, 0, 0, 0, 0, 1, 0, 0, 0, 0, 0, 0, 0, 0, 0, 0, 0, 0, 0, 0, 0, 0, 0, 0, 0, 0, 0, 0, 0, 0, 0, 0, 0, 0, 0, 0, 0, 0, 0], [0, 0, 0, 1, 0, 0, 0, 0, 0, 0, 0, 0, 0, 0, 0, 0, 0, 0, 0, 0, 0, 0, 0, 0, 0, 0, 0, 0, 0, 0, 0, 0, 0, 0, 0, 0, 0, 0, 0, 0, 0, 0, 0], [0, 0, 0, 0, 0, 0, 0, 0, 1, 0, 0, 0, 0, 0, 0, 0, 0, 0, 0, 0, 0, 0, 0, 0, 0, 0, 0, 0, 0, 0, 0, 0, 0, 0, 0, 0, 0, 0, 0, 0, 0, 0, 0], [0, 0, 0, 0, 0, 0, 0, 0, 0, 0, 0, 0, 1, 0, 0, 0, 0, 0, 0, 0, 0, 0, 0, 0, 0, 0, 0, 0, 0, 0, 0, 0, 0, 0, 0, 0, 0, 0, 0, 0, 0, 0, 0], [0, 0, 0, 0, 0, 0, 0, 0, 0, 0, 0, 0, 0, 0, 0, 1, 0, 0, 0, 0, 0, 0, 0, 0, 0, 0, 0, 0, 0, 0, 0, 0, 0, 0, 0, 0, 0, 0, 0, 0, 0, 0, 0], [0, 0, 0, 0, 0, 0, 0, 0, 0, 0, 0, 0, 0, 0, 0, 0, 0, 0, 1, 0, 0, 0, 0, 0, 0, 0, 0, 0, 0, 0, 0, 0, 0, 0, 0, 0, 0, 0, 0, 0, 0, 0, 0], [0, 0, 0, 0, 0, 0, 0, 0, 0, 0, 0, 0, 0, 0, 0, 1, 0, 0, 0, 0, 0, 0, 0, 0, 0, 0, 0, 0, 0, 0, 0, 0, 0, 0, 0, 0, 0, 0, 0, 0, 0, 0, 0], [0, 0, 0, 0, 0, 1, 0, 0, 0, 0, 0, 0, 0, 0, 0, 0, 0, 0, 0, 0, 0, 0, 0, 0, 0, 0, 0, 0, 0, 0, 0, 0, 0, 0, 0, 0, 0, 0, 0, 0, 0, 0, 0], [0, 0, 0, 0, 0, 0, 0, 0, 0, 0, 0, 0, 0, 0, 0, 0, 0, 0, 0, 0, 1, 0, 0, 0, 0, 0, 0, 0, 0, 0, 0, 0, 0, 0, 0, 0, 0, 0, 0, 0, 0, 0, 0], [0, 0, 0, 0, 0, 0, 0, 0, 1, 0, 0, 0, 0, 0, 0, 0, 0, 0, 0, 0, 0, 0, 0, 0, 0, 0, 0, 0, 0, 0, 0, 0, 0, 0, 0, 0, 0, 0, 0, 0, 0, 0, 0], [0, 1, 0, 0, 0, 0, 0, 0, 0, 0, 0, 0, 0, 0, 0, 0, 0, 0, 0, 0, 0, 0, 0, 0, 0, 0, 0, 0, 0, 0, 0, 0, 0, 0, 0, 0, 0, 0, 0, 0, 0, 0, 0], [0, 0, 0, 0, 0, 0, 0, 0, 0, 0, 0, 0, 0, 0, 1, 0, 0, 0, 0, 0, 0, 0, 0, 0, 0, 0, 0, 0, 0, 0, 0, 0, 0, 0, 0, 0, 0, 0, 0, 0, 0, 0, 0], [0, 0, 0, 0, 0, 1, 0, 0, 0, 0, 0, 0, 0, 0, 0, 0, 0, 0, 0, 0, 0, 0, 0, 0, 0, 0, 0, 0, 0, 0, 0, 0, 0, 0, 0, 0, 0, 0, 0, 0, 0, 0, 0]]\n",
        "\n",
        "print(len(newArray))"
      ]
    },
    {
      "cell_type": "markdown",
      "metadata": {
        "id": "dtU4iJcmezo4"
      },
      "source": [
        "Build Model"
      ]
    },
    {
      "cell_type": "code",
      "execution_count": null,
      "metadata": {
        "id": "QoYsvke2e4MV",
        "colab": {
          "base_uri": "https://localhost:8080/"
        },
        "outputId": "e9c412a7-b808-48a7-8435-f14fc4957cdd"
      },
      "outputs": [
        {
          "output_type": "stream",
          "name": "stdout",
          "text": [
            "Model: \"sequential_72\"\n",
            "_________________________________________________________________\n",
            " Layer (type)                Output Shape              Param #   \n",
            "=================================================================\n",
            " flatten_17 (Flatten)        (None, 1455)              0         \n",
            "                                                                 \n",
            " dense_360 (Dense)           (None, 2048)              2981888   \n",
            "                                                                 \n",
            " dense_361 (Dense)           (None, 2048)              4196352   \n",
            "                                                                 \n",
            " dense_362 (Dense)           (None, 2048)              4196352   \n",
            "                                                                 \n",
            " dense_363 (Dense)           (None, 2048)              4196352   \n",
            "                                                                 \n",
            " dense_364 (Dense)           (None, 2048)              4196352   \n",
            "                                                                 \n",
            " dropout_68 (Dropout)        (None, 2048)              0         \n",
            "                                                                 \n",
            " dense_365 (Dense)           (None, 256)               524544    \n",
            "                                                                 \n",
            " dense_366 (Dense)           (None, 128)               32896     \n",
            "                                                                 \n",
            " dense_367 (Dense)           (None, 10)                1290      \n",
            "                                                                 \n",
            "=================================================================\n",
            "Total params: 20326026 (77.54 MB)\n",
            "Trainable params: 20326026 (77.54 MB)\n",
            "Non-trainable params: 0 (0.00 Byte)\n",
            "_________________________________________________________________\n",
            "Model: \"sequential_73\"\n",
            "_________________________________________________________________\n",
            " Layer (type)                Output Shape              Param #   \n",
            "=================================================================\n",
            " bidirectional_34 (Bidirect  (None, 30)                13560     \n",
            " ional)                                                          \n",
            "                                                                 \n",
            " dropout_69 (Dropout)        (None, 30)                0         \n",
            "                                                                 \n",
            " dense_368 (Dense)           (None, 2048)              63488     \n",
            "                                                                 \n",
            " dense_369 (Dense)           (None, 2048)              4196352   \n",
            "                                                                 \n",
            " dense_370 (Dense)           (None, 2048)              4196352   \n",
            "                                                                 \n",
            " dense_371 (Dense)           (None, 2048)              4196352   \n",
            "                                                                 \n",
            " dense_372 (Dense)           (None, 2048)              4196352   \n",
            "                                                                 \n",
            " dense_373 (Dense)           (None, 2048)              4196352   \n",
            "                                                                 \n",
            " dropout_70 (Dropout)        (None, 2048)              0         \n",
            "                                                                 \n",
            " dense_374 (Dense)           (None, 256)               524544    \n",
            "                                                                 \n",
            " dense_375 (Dense)           (None, 128)               32896     \n",
            "                                                                 \n",
            " dense_376 (Dense)           (None, 10)                1290      \n",
            "                                                                 \n",
            "=================================================================\n",
            "Total params: 21617538 (82.46 MB)\n",
            "Trainable params: 21617538 (82.46 MB)\n",
            "Non-trainable params: 0 (0.00 Byte)\n",
            "_________________________________________________________________\n",
            "Model: \"sequential_74\"\n",
            "_________________________________________________________________\n",
            " Layer (type)                Output Shape              Param #   \n",
            "=================================================================\n",
            " bidirectional_35 (Bidirect  (None, 15, 30)            13560     \n",
            " ional)                                                          \n",
            "                                                                 \n",
            " dropout_71 (Dropout)        (None, 15, 30)            0         \n",
            "                                                                 \n",
            " bidirectional_36 (Bidirect  (None, 30)                5520      \n",
            " ional)                                                          \n",
            "                                                                 \n",
            " dense_377 (Dense)           (None, 2048)              63488     \n",
            "                                                                 \n",
            " dense_378 (Dense)           (None, 2048)              4196352   \n",
            "                                                                 \n",
            " dense_379 (Dense)           (None, 2048)              4196352   \n",
            "                                                                 \n",
            " dense_380 (Dense)           (None, 2048)              4196352   \n",
            "                                                                 \n",
            " dense_381 (Dense)           (None, 2048)              4196352   \n",
            "                                                                 \n",
            " dense_382 (Dense)           (None, 2048)              4196352   \n",
            "                                                                 \n",
            " dropout_72 (Dropout)        (None, 2048)              0         \n",
            "                                                                 \n",
            " dense_383 (Dense)           (None, 256)               524544    \n",
            "                                                                 \n",
            " dense_384 (Dense)           (None, 128)               32896     \n",
            "                                                                 \n",
            " dense_385 (Dense)           (None, 10)                1290      \n",
            "                                                                 \n",
            "=================================================================\n",
            "Total params: 21623058 (82.49 MB)\n",
            "Trainable params: 21623058 (82.49 MB)\n",
            "Non-trainable params: 0 (0.00 Byte)\n",
            "_________________________________________________________________\n",
            "Model: \"sequential_75\"\n",
            "_________________________________________________________________\n",
            " Layer (type)                Output Shape              Param #   \n",
            "=================================================================\n",
            " bidirectional_37 (Bidirect  (None, 15, 30)            13560     \n",
            " ional)                                                          \n",
            "                                                                 \n",
            " dropout_73 (Dropout)        (None, 15, 30)            0         \n",
            "                                                                 \n",
            " bidirectional_38 (Bidirect  (None, 30)                5520      \n",
            " ional)                                                          \n",
            "                                                                 \n",
            " flatten_18 (Flatten)        (None, 30)                0         \n",
            "                                                                 \n",
            " dense_386 (Dense)           (None, 2048)              63488     \n",
            "                                                                 \n",
            " dense_387 (Dense)           (None, 2048)              4196352   \n",
            "                                                                 \n",
            " dense_388 (Dense)           (None, 2048)              4196352   \n",
            "                                                                 \n",
            " dense_389 (Dense)           (None, 2048)              4196352   \n",
            "                                                                 \n",
            " dense_390 (Dense)           (None, 2048)              4196352   \n",
            "                                                                 \n",
            " dense_391 (Dense)           (None, 2048)              4196352   \n",
            "                                                                 \n",
            " dropout_74 (Dropout)        (None, 2048)              0         \n",
            "                                                                 \n",
            " dense_392 (Dense)           (None, 256)               524544    \n",
            "                                                                 \n",
            " dense_393 (Dense)           (None, 128)               32896     \n",
            "                                                                 \n",
            " dense_394 (Dense)           (None, 10)                1290      \n",
            "                                                                 \n",
            "=================================================================\n",
            "Total params: 21623058 (82.49 MB)\n",
            "Trainable params: 21623058 (82.49 MB)\n",
            "Non-trainable params: 0 (0.00 Byte)\n",
            "_________________________________________________________________\n"
          ]
        }
      ],
      "source": [
        "numLanguages = len(all_input_files)\n",
        "xmodel = Sequential()\n",
        "xmodel_2 = Sequential()\n",
        "\n",
        "checkpoint_filepath = 'checkpoint/'\n",
        "model_checkpoint_callback = tf.keras.callbacks.ModelCheckpoint(\n",
        "    filepath=checkpoint_filepath,\n",
        "    save_weights_only=True,\n",
        "    monitor='val_accuracy',\n",
        "    mode='max',\n",
        "    save_best_only=True)\n",
        "\n",
        "# Model Version 1\n",
        "xmodel = Sequential([\n",
        "    Flatten(input_shape=(max_word_length, len(alphabet))),\n",
        "    Dense(2048, activation='relu', input_shape=(max_word_length, len(alphabet))),\n",
        "    Dense(2048, activation='relu'),\n",
        "    Dense(2048, activation='relu'),\n",
        "    Dense(2048, activation='relu'),\n",
        "    Dense(2048, activation='relu'),\n",
        "    Dropout(0.3),\n",
        "    Dense(256, activation='relu'),\n",
        "    Dense(128, activation='relu'),\n",
        "    Dense(numLanguages, activation='softmax')\n",
        "])\n",
        "# xmodel.add()\n",
        "# xmodel.add(Dense(2048, activation='relu', input_shape=(max_word_length, len(alphabet))))\n",
        "# xmodel.add(Dense(2048, activation='relu'))\n",
        "# xmodel.add(Dense(2048, activation='relu'))\n",
        "# xmodel.add(Dense(2048, activation='relu'))\n",
        "# xmodel.add(Dense(2048, activation='relu'))\n",
        "# xmodel.add(Dropout(0.3))\n",
        "# xmodel.add(Dense(256, activation='relu'))\n",
        "# xmodel.add(Dense(128, activation='relu'))\n",
        "# xmodel.add(Dense(numLanguages, activation='softmax'))\n",
        "\n",
        "\n",
        "# Model 2 if broken, replace len(alphabet) with 43\n",
        "xmodel_2 = Sequential([\n",
        "    Bidirectional(LSTM(max_word_length, activation='tanh'), input_shape=(max_word_length, len(alphabet))),\n",
        "    Dropout(0.2),\n",
        "    Dense(2048, activation='relu'),\n",
        "    Dense(2048, activation='relu'),\n",
        "    Dense(2048, activation='relu'),\n",
        "    Dense(2048, activation='relu'),\n",
        "    Dense(2048, activation='relu'),\n",
        "    Dense(2048, activation='relu'),\n",
        "    Dropout(0.2),\n",
        "    Dense(256, activation='relu'),\n",
        "    Dense(128, activation='relu'),\n",
        "    Dense(numLanguages, activation='softmax')\n",
        "])\n",
        "\n",
        "\n",
        "# Model 3\n",
        "xmodel_3 = Sequential([\n",
        "    Bidirectional(LSTM(max_word_length, activation='tanh', return_sequences=True), input_shape=(max_word_length, len(alphabet))),\n",
        "    Dropout(0.2),\n",
        "    Bidirectional(LSTM(max_word_length, activation='tanh')),\n",
        "    Dense(2048, activation='relu'),\n",
        "    Dense(2048, activation='relu'),\n",
        "    Dense(2048, activation='relu'),\n",
        "    Dense(2048, activation='relu'),\n",
        "    Dense(2048, activation='relu'),\n",
        "    Dense(2048, activation='relu'),\n",
        "    Dropout(0.2),\n",
        "    Dense(256, activation='relu'),\n",
        "    Dense(128, activation='relu'),\n",
        "    Dense(numLanguages, activation='softmax')\n",
        "])\n",
        "\n",
        "# Model 4\n",
        "xmodel_4 = Sequential([\n",
        "    Bidirectional(LSTM(max_word_length, activation='tanh', return_sequences=True), input_shape=(max_word_length, len(alphabet))),\n",
        "    Dropout(0.2),\n",
        "    Bidirectional(LSTM(max_word_length, activation='tanh')),\n",
        "    Flatten(),\n",
        "    Dense(2048, activation='relu'),\n",
        "    Dense(2048, activation='relu'),\n",
        "    Dense(2048, activation='relu'),\n",
        "    Dense(2048, activation='relu'),\n",
        "    Dense(2048, activation='relu'),\n",
        "    Dense(2048, activation='relu'),\n",
        "    Dropout(0.2),\n",
        "    Dense(256, activation='relu'),\n",
        "    Dense(128, activation='relu'),\n",
        "    Dense(numLanguages, activation='softmax')\n",
        "])\n",
        "\n",
        "\n",
        "xmodel.build()\n",
        "xmodel.summary()\n",
        "\n",
        "xmodel_2.build()\n",
        "xmodel_2.summary()\n",
        "\n",
        "xmodel_3.build()\n",
        "xmodel_3.summary()\n",
        "\n",
        "xmodel_4.build()\n",
        "xmodel_4.summary()\n",
        "\n",
        "batch_size = 32\n",
        "\n",
        "X_train_words = np.load(\"X_train_words.npy\")\n",
        "y_train = np.load(\"y_train.npy\")\n",
        "# X_test_words = np.load(\"X_test_words.npy\")\n",
        "# y_test = np.load(\"y_test.npy\")\n",
        "\n",
        "training_batch_generator = CustomGenerator(X_train_words, y_train, batch_size)\n",
        "test_batch_generator = CustomGenerator(X_test_words, y_test, batch_size)\n",
        "validation_batch_generator = CustomGenerator(X_val_words, y_val, batch_size)\n"
      ]
    },
    {
      "cell_type": "markdown",
      "metadata": {
        "id": "D3KRoaXwju4L"
      },
      "source": [
        "Load Checkpoint (Optional)"
      ]
    },
    {
      "cell_type": "code",
      "execution_count": null,
      "metadata": {
        "id": "xQMM9ui7jxMN"
      },
      "outputs": [],
      "source": [
        "xmodel.load_weights(checkpoint_filepath)\n",
        "xmodel.compile(loss='binary_crossentropy', optimizer='adam', metrics=['accuracy'])\n"
      ]
    },
    {
      "cell_type": "markdown",
      "metadata": {
        "id": "5yRgwx2ekjPS"
      },
      "source": [
        "Train Model"
      ]
    },
    {
      "cell_type": "code",
      "execution_count": null,
      "metadata": {
        "colab": {
          "base_uri": "https://localhost:8080/"
        },
        "id": "9Mj9dRZAP1gj",
        "outputId": "7964619c-4fd6-4450-8f0c-b62f12395b1f"
      },
      "outputs": [
        {
          "output_type": "stream",
          "name": "stdout",
          "text": [
            "Training Model 1\n",
            "Epoch 1/100\n"
          ]
        },
        {
          "output_type": "stream",
          "name": "stderr",
          "text": [
            "<ipython-input-36-a16785613630>:22: UserWarning: `Model.fit_generator` is deprecated and will be removed in a future version. Please use `Model.fit`, which supports generators.\n",
            "  history = xmodel.fit_generator(generator=training_batch_generator,\n",
            "<ipython-input-10-e29eb874733f>:12: DeprecationWarning: `np.int` is a deprecated alias for the builtin `int`. To silence this warning, use `int` by itself. Doing this will not modify any behavior and is safe. When replacing `np.int`, you may wish to use e.g. `np.int64` or `np.int32` to specify the precision. If you wish to review your current use, check the release note link for additional information.\n",
            "Deprecated in NumPy 1.20; for more details and guidance: https://numpy.org/devdocs/release/1.20.0-notes.html#deprecations\n",
            "  return (np.ceil(len(self.words) / float(self.batch_size))).astype(np.int)\n"
          ]
        },
        {
          "output_type": "stream",
          "name": "stdout",
          "text": [
            "500/500 [==============================] - 12s 17ms/step - loss: 0.2408 - accuracy: 0.4369 - val_loss: 0.1835 - val_accuracy: 0.5945\n",
            "Epoch 2/100\n",
            "500/500 [==============================] - 9s 17ms/step - loss: 0.1686 - accuracy: 0.6353 - val_loss: 0.1498 - val_accuracy: 0.6796\n",
            "Epoch 3/100\n",
            "500/500 [==============================] - 8s 17ms/step - loss: 0.1462 - accuracy: 0.6954 - val_loss: 0.1346 - val_accuracy: 0.7143\n",
            "Epoch 4/100\n",
            "500/500 [==============================] - 8s 17ms/step - loss: 0.1321 - accuracy: 0.7281 - val_loss: 0.1290 - val_accuracy: 0.7396\n",
            "Epoch 5/100\n",
            "500/500 [==============================] - 9s 17ms/step - loss: 0.1204 - accuracy: 0.7561 - val_loss: 0.1214 - val_accuracy: 0.7541\n",
            "Epoch 6/100\n",
            "500/500 [==============================] - 8s 17ms/step - loss: 0.1142 - accuracy: 0.7699 - val_loss: 0.1112 - val_accuracy: 0.7692\n",
            "Epoch 7/100\n",
            "500/500 [==============================] - 9s 17ms/step - loss: 0.1093 - accuracy: 0.7830 - val_loss: 0.1040 - val_accuracy: 0.7929\n",
            "Epoch 8/100\n",
            "500/500 [==============================] - 9s 17ms/step - loss: 0.1033 - accuracy: 0.7937 - val_loss: 0.0995 - val_accuracy: 0.7931\n",
            "Epoch 9/100\n",
            "500/500 [==============================] - 8s 17ms/step - loss: 0.1025 - accuracy: 0.7934 - val_loss: 0.0990 - val_accuracy: 0.8039\n",
            "Epoch 10/100\n",
            "500/500 [==============================] - 9s 17ms/step - loss: 0.0974 - accuracy: 0.8054 - val_loss: 0.0958 - val_accuracy: 0.8041\n",
            "Epoch 11/100\n",
            "500/500 [==============================] - 9s 17ms/step - loss: 0.0958 - accuracy: 0.8086 - val_loss: 0.0925 - val_accuracy: 0.8087\n",
            "Epoch 12/100\n",
            "500/500 [==============================] - 8s 17ms/step - loss: 0.0935 - accuracy: 0.8168 - val_loss: 0.0935 - val_accuracy: 0.8120\n",
            "Epoch 13/100\n",
            "500/500 [==============================] - 8s 17ms/step - loss: 0.0913 - accuracy: 0.8181 - val_loss: 0.0890 - val_accuracy: 0.8231\n",
            "Epoch 14/100\n",
            "500/500 [==============================] - 8s 16ms/step - loss: 0.0904 - accuracy: 0.8206 - val_loss: 0.0872 - val_accuracy: 0.8231\n",
            "Epoch 15/100\n",
            "500/500 [==============================] - 8s 17ms/step - loss: 0.0912 - accuracy: 0.8167 - val_loss: 0.0878 - val_accuracy: 0.8270\n",
            "Epoch 16/100\n",
            "500/500 [==============================] - 8s 17ms/step - loss: 0.0866 - accuracy: 0.8275 - val_loss: 0.0862 - val_accuracy: 0.8316\n",
            "Epoch 17/100\n",
            "500/500 [==============================] - 8s 17ms/step - loss: 0.0858 - accuracy: 0.8293 - val_loss: 0.0858 - val_accuracy: 0.8324\n",
            "Epoch 18/100\n",
            "500/500 [==============================] - 9s 17ms/step - loss: 0.0869 - accuracy: 0.8285 - val_loss: 0.0834 - val_accuracy: 0.8374\n",
            "Epoch 19/100\n",
            "500/500 [==============================] - 9s 17ms/step - loss: 0.0860 - accuracy: 0.8311 - val_loss: 0.0819 - val_accuracy: 0.8379\n",
            "Epoch 20/100\n",
            "500/500 [==============================] - 8s 17ms/step - loss: 0.0858 - accuracy: 0.8304 - val_loss: 0.0790 - val_accuracy: 0.8419\n",
            "Epoch 21/100\n",
            "500/500 [==============================] - 8s 17ms/step - loss: 0.0823 - accuracy: 0.8383 - val_loss: 0.0792 - val_accuracy: 0.8420\n",
            "Epoch 22/100\n",
            "500/500 [==============================] - 8s 16ms/step - loss: 0.0815 - accuracy: 0.8397 - val_loss: 0.0805 - val_accuracy: 0.8365\n",
            "Epoch 23/100\n",
            "500/500 [==============================] - 8s 17ms/step - loss: 0.0810 - accuracy: 0.8394 - val_loss: 0.0777 - val_accuracy: 0.8446\n",
            "Epoch 24/100\n",
            "500/500 [==============================] - 8s 16ms/step - loss: 0.0786 - accuracy: 0.8461 - val_loss: 0.0791 - val_accuracy: 0.8421\n",
            "Epoch 25/100\n",
            "500/500 [==============================] - 8s 17ms/step - loss: 0.0794 - accuracy: 0.8454 - val_loss: 0.0761 - val_accuracy: 0.8447\n",
            "Epoch 26/100\n",
            "500/500 [==============================] - 8s 17ms/step - loss: 0.0799 - accuracy: 0.8429 - val_loss: 0.0776 - val_accuracy: 0.8485\n",
            "Epoch 27/100\n",
            "500/500 [==============================] - 8s 16ms/step - loss: 0.0769 - accuracy: 0.8509 - val_loss: 0.0795 - val_accuracy: 0.8394\n",
            "Epoch 28/100\n",
            "500/500 [==============================] - 8s 15ms/step - loss: 0.0755 - accuracy: 0.8529 - val_loss: 0.0750 - val_accuracy: 0.8462\n",
            "Epoch 29/100\n",
            "500/500 [==============================] - 8s 17ms/step - loss: 0.0759 - accuracy: 0.8496 - val_loss: 0.0755 - val_accuracy: 0.8520\n",
            "Epoch 30/100\n",
            "500/500 [==============================] - 9s 17ms/step - loss: 0.0774 - accuracy: 0.8482 - val_loss: 0.0766 - val_accuracy: 0.8522\n",
            "Epoch 31/100\n",
            "500/500 [==============================] - 8s 17ms/step - loss: 0.0769 - accuracy: 0.8494 - val_loss: 0.0741 - val_accuracy: 0.8541\n",
            "Epoch 32/100\n",
            "500/500 [==============================] - 9s 17ms/step - loss: 0.0740 - accuracy: 0.8510 - val_loss: 0.0708 - val_accuracy: 0.8600\n",
            "Epoch 33/100\n",
            "500/500 [==============================] - 8s 16ms/step - loss: 0.0732 - accuracy: 0.8598 - val_loss: 0.0730 - val_accuracy: 0.8577\n",
            "Epoch 34/100\n",
            "500/500 [==============================] - 8s 16ms/step - loss: 0.0734 - accuracy: 0.8563 - val_loss: 0.0728 - val_accuracy: 0.8565\n",
            "Epoch 35/100\n",
            "500/500 [==============================] - 8s 16ms/step - loss: 0.0722 - accuracy: 0.8602 - val_loss: 0.0736 - val_accuracy: 0.8584\n",
            "Epoch 36/100\n",
            "500/500 [==============================] - 8s 15ms/step - loss: 0.0738 - accuracy: 0.8572 - val_loss: 0.0714 - val_accuracy: 0.8600\n",
            "Epoch 37/100\n",
            "500/500 [==============================] - 8s 16ms/step - loss: 0.0721 - accuracy: 0.8586 - val_loss: 0.0720 - val_accuracy: 0.8571\n",
            "Epoch 38/100\n",
            "500/500 [==============================] - 8s 16ms/step - loss: 0.0710 - accuracy: 0.8614 - val_loss: 0.0739 - val_accuracy: 0.8550\n",
            "Epoch 39/100\n",
            "500/500 [==============================] - 8s 15ms/step - loss: 0.0701 - accuracy: 0.8673 - val_loss: 0.0711 - val_accuracy: 0.8562\n",
            "Epoch 40/100\n",
            "500/500 [==============================] - 8s 17ms/step - loss: 0.0687 - accuracy: 0.8666 - val_loss: 0.0716 - val_accuracy: 0.8625\n",
            "Epoch 41/100\n",
            "500/500 [==============================] - 8s 16ms/step - loss: 0.0690 - accuracy: 0.8649 - val_loss: 0.0747 - val_accuracy: 0.8566\n",
            "Epoch 42/100\n",
            "500/500 [==============================] - 8s 16ms/step - loss: 0.0703 - accuracy: 0.8637 - val_loss: 0.0719 - val_accuracy: 0.8608\n",
            "Epoch 43/100\n",
            "500/500 [==============================] - 8s 17ms/step - loss: 0.0686 - accuracy: 0.8668 - val_loss: 0.0690 - val_accuracy: 0.8635\n",
            "Epoch 44/100\n",
            "500/500 [==============================] - 8s 17ms/step - loss: 0.0700 - accuracy: 0.8609 - val_loss: 0.0689 - val_accuracy: 0.8651\n",
            "Epoch 45/100\n",
            "500/500 [==============================] - 8s 17ms/step - loss: 0.0710 - accuracy: 0.8605 - val_loss: 0.0676 - val_accuracy: 0.8656\n",
            "Epoch 46/100\n",
            "500/500 [==============================] - 9s 17ms/step - loss: 0.0695 - accuracy: 0.8638 - val_loss: 0.0667 - val_accuracy: 0.8712\n",
            "Epoch 47/100\n",
            "500/500 [==============================] - 8s 16ms/step - loss: 0.0704 - accuracy: 0.8643 - val_loss: 0.0684 - val_accuracy: 0.8637\n",
            "Epoch 48/100\n",
            "500/500 [==============================] - 8s 16ms/step - loss: 0.0650 - accuracy: 0.8722 - val_loss: 0.0726 - val_accuracy: 0.8625\n",
            "Epoch 49/100\n",
            "500/500 [==============================] - 8s 15ms/step - loss: 0.0683 - accuracy: 0.8677 - val_loss: 0.0690 - val_accuracy: 0.8641\n",
            "Epoch 50/100\n",
            "500/500 [==============================] - 8s 16ms/step - loss: 0.0679 - accuracy: 0.8704 - val_loss: 0.0672 - val_accuracy: 0.8700\n",
            "Epoch 51/100\n",
            "500/500 [==============================] - 8s 16ms/step - loss: 0.0681 - accuracy: 0.8665 - val_loss: 0.0674 - val_accuracy: 0.8640\n",
            "Epoch 52/100\n",
            "500/500 [==============================] - 8s 16ms/step - loss: 0.0662 - accuracy: 0.8691 - val_loss: 0.0687 - val_accuracy: 0.8681\n",
            "Epoch 53/100\n",
            "500/500 [==============================] - 8s 16ms/step - loss: 0.0661 - accuracy: 0.8691 - val_loss: 0.0669 - val_accuracy: 0.8712\n",
            "Epoch 54/100\n",
            "500/500 [==============================] - 8s 17ms/step - loss: 0.0649 - accuracy: 0.8721 - val_loss: 0.0647 - val_accuracy: 0.8735\n",
            "Epoch 55/100\n",
            "500/500 [==============================] - 8s 16ms/step - loss: 0.0649 - accuracy: 0.8733 - val_loss: 0.0660 - val_accuracy: 0.8727\n",
            "Epoch 56/100\n",
            "500/500 [==============================] - 9s 17ms/step - loss: 0.0643 - accuracy: 0.8752 - val_loss: 0.0641 - val_accuracy: 0.8809\n",
            "Epoch 57/100\n",
            "500/500 [==============================] - 8s 16ms/step - loss: 0.0635 - accuracy: 0.8756 - val_loss: 0.0662 - val_accuracy: 0.8708\n",
            "Epoch 58/100\n",
            "500/500 [==============================] - 8s 16ms/step - loss: 0.0617 - accuracy: 0.8826 - val_loss: 0.0641 - val_accuracy: 0.8765\n",
            "Epoch 59/100\n",
            "500/500 [==============================] - 8s 16ms/step - loss: 0.0634 - accuracy: 0.8779 - val_loss: 0.0658 - val_accuracy: 0.8724\n",
            "Epoch 60/100\n",
            "500/500 [==============================] - 8s 16ms/step - loss: 0.0648 - accuracy: 0.8752 - val_loss: 0.0655 - val_accuracy: 0.8710\n",
            "Epoch 61/100\n",
            "500/500 [==============================] - 8s 15ms/step - loss: 0.0621 - accuracy: 0.8756 - val_loss: 0.0628 - val_accuracy: 0.8785\n",
            "Epoch 62/100\n",
            "500/500 [==============================] - 8s 15ms/step - loss: 0.0622 - accuracy: 0.8800 - val_loss: 0.0639 - val_accuracy: 0.8786\n",
            "Epoch 63/100\n",
            "500/500 [==============================] - 8s 15ms/step - loss: 0.0639 - accuracy: 0.8791 - val_loss: 0.0637 - val_accuracy: 0.8799\n",
            "Epoch 64/100\n",
            "500/500 [==============================] - 8s 15ms/step - loss: 0.0636 - accuracy: 0.8814 - val_loss: 0.0640 - val_accuracy: 0.8742\n",
            "Epoch 65/100\n",
            "500/500 [==============================] - 8s 16ms/step - loss: 0.0619 - accuracy: 0.8806 - val_loss: 0.0608 - val_accuracy: 0.8860\n",
            "Epoch 66/100\n",
            "500/500 [==============================] - 8s 15ms/step - loss: 0.0632 - accuracy: 0.8804 - val_loss: 0.0645 - val_accuracy: 0.8730\n",
            "Epoch 67/100\n",
            "500/500 [==============================] - 8s 15ms/step - loss: 0.0622 - accuracy: 0.8787 - val_loss: 0.0634 - val_accuracy: 0.8773\n",
            "Epoch 68/100\n",
            "500/500 [==============================] - 8s 15ms/step - loss: 0.0617 - accuracy: 0.8801 - val_loss: 0.0619 - val_accuracy: 0.8789\n",
            "Epoch 69/100\n",
            "500/500 [==============================] - 8s 15ms/step - loss: 0.0587 - accuracy: 0.8878 - val_loss: 0.0633 - val_accuracy: 0.8795\n",
            "Epoch 70/100\n",
            "500/500 [==============================] - 8s 15ms/step - loss: 0.0621 - accuracy: 0.8794 - val_loss: 0.0613 - val_accuracy: 0.8809\n",
            "Epoch 71/100\n",
            "500/500 [==============================] - 8s 16ms/step - loss: 0.0608 - accuracy: 0.8820 - val_loss: 0.0627 - val_accuracy: 0.8808\n",
            "Epoch 72/100\n",
            "500/500 [==============================] - 8s 15ms/step - loss: 0.0597 - accuracy: 0.8841 - val_loss: 0.0626 - val_accuracy: 0.8788\n",
            "Epoch 73/100\n",
            "500/500 [==============================] - 8s 15ms/step - loss: 0.0605 - accuracy: 0.8836 - val_loss: 0.0626 - val_accuracy: 0.8815\n",
            "Epoch 74/100\n",
            "500/500 [==============================] - 8s 15ms/step - loss: 0.0588 - accuracy: 0.8879 - val_loss: 0.0632 - val_accuracy: 0.8806\n",
            "Epoch 75/100\n",
            "500/500 [==============================] - 8s 15ms/step - loss: 0.0617 - accuracy: 0.8812 - val_loss: 0.0609 - val_accuracy: 0.8851\n",
            "Epoch 76/100\n",
            "500/500 [==============================] - 8s 15ms/step - loss: 0.0599 - accuracy: 0.8873 - val_loss: 0.0606 - val_accuracy: 0.8819\n",
            "Epoch 77/100\n",
            "500/500 [==============================] - 8s 15ms/step - loss: 0.0619 - accuracy: 0.8801 - val_loss: 0.0621 - val_accuracy: 0.8802\n",
            "Epoch 78/100\n",
            "500/500 [==============================] - 8s 15ms/step - loss: 0.0589 - accuracy: 0.8859 - val_loss: 0.0620 - val_accuracy: 0.8801\n",
            "Epoch 79/100\n",
            "500/500 [==============================] - 8s 15ms/step - loss: 0.0610 - accuracy: 0.8805 - val_loss: 0.0610 - val_accuracy: 0.8805\n",
            "Epoch 80/100\n",
            "500/500 [==============================] - 8s 17ms/step - loss: 0.0611 - accuracy: 0.8813 - val_loss: 0.0607 - val_accuracy: 0.8867\n",
            "Epoch 81/100\n",
            "500/500 [==============================] - 8s 15ms/step - loss: 0.0561 - accuracy: 0.8912 - val_loss: 0.0622 - val_accuracy: 0.8795\n",
            "Epoch 82/100\n",
            "500/500 [==============================] - 8s 15ms/step - loss: 0.0588 - accuracy: 0.8866 - val_loss: 0.0612 - val_accuracy: 0.8794\n",
            "Epoch 83/100\n",
            "500/500 [==============================] - 8s 15ms/step - loss: 0.0593 - accuracy: 0.8864 - val_loss: 0.0585 - val_accuracy: 0.8856\n",
            "Epoch 84/100\n",
            "500/500 [==============================] - 8s 15ms/step - loss: 0.0600 - accuracy: 0.8854 - val_loss: 0.0594 - val_accuracy: 0.8835\n",
            "Epoch 85/100\n",
            "500/500 [==============================] - 8s 15ms/step - loss: 0.0596 - accuracy: 0.8839 - val_loss: 0.0589 - val_accuracy: 0.8867\n",
            "Epoch 86/100\n",
            "500/500 [==============================] - 8s 15ms/step - loss: 0.0595 - accuracy: 0.8863 - val_loss: 0.0597 - val_accuracy: 0.8852\n",
            "Epoch 87/100\n",
            "500/500 [==============================] - 8s 15ms/step - loss: 0.0597 - accuracy: 0.8850 - val_loss: 0.0602 - val_accuracy: 0.8799\n",
            "Epoch 88/100\n",
            "500/500 [==============================] - 8s 15ms/step - loss: 0.0582 - accuracy: 0.8869 - val_loss: 0.0611 - val_accuracy: 0.8827\n",
            "Epoch 89/100\n",
            "500/500 [==============================] - 8s 15ms/step - loss: 0.0591 - accuracy: 0.8865 - val_loss: 0.0599 - val_accuracy: 0.8852\n",
            "Epoch 90/100\n",
            "500/500 [==============================] - 8s 15ms/step - loss: 0.0559 - accuracy: 0.8916 - val_loss: 0.0609 - val_accuracy: 0.8796\n",
            "Epoch 91/100\n",
            "500/500 [==============================] - 8s 15ms/step - loss: 0.0568 - accuracy: 0.8926 - val_loss: 0.0589 - val_accuracy: 0.8866\n",
            "Epoch 92/100\n",
            "500/500 [==============================] - 8s 15ms/step - loss: 0.0565 - accuracy: 0.8912 - val_loss: 0.0620 - val_accuracy: 0.8820\n",
            "Epoch 93/100\n",
            "500/500 [==============================] - 8s 16ms/step - loss: 0.0579 - accuracy: 0.8879 - val_loss: 0.0580 - val_accuracy: 0.8863\n",
            "Epoch 94/100\n",
            "500/500 [==============================] - 8s 15ms/step - loss: 0.0551 - accuracy: 0.8949 - val_loss: 0.0606 - val_accuracy: 0.8809\n",
            "Epoch 95/100\n",
            "500/500 [==============================] - 8s 15ms/step - loss: 0.0572 - accuracy: 0.8891 - val_loss: 0.0585 - val_accuracy: 0.8861\n",
            "Epoch 96/100\n",
            "500/500 [==============================] - 8s 17ms/step - loss: 0.0587 - accuracy: 0.8889 - val_loss: 0.0593 - val_accuracy: 0.8879\n",
            "Epoch 97/100\n",
            "500/500 [==============================] - 8s 16ms/step - loss: 0.0577 - accuracy: 0.8918 - val_loss: 0.0576 - val_accuracy: 0.8903\n",
            "Epoch 98/100\n",
            "500/500 [==============================] - 8s 16ms/step - loss: 0.0570 - accuracy: 0.8959 - val_loss: 0.0599 - val_accuracy: 0.8845\n",
            "Epoch 99/100\n",
            "500/500 [==============================] - 8s 15ms/step - loss: 0.0583 - accuracy: 0.8885 - val_loss: 0.0578 - val_accuracy: 0.8899\n",
            "Epoch 100/100\n",
            "500/500 [==============================] - 8s 15ms/step - loss: 0.0568 - accuracy: 0.8921 - val_loss: 0.0583 - val_accuracy: 0.8865\n"
          ]
        }
      ],
      "source": [
        "\n",
        "xmodel.compile(loss='binary_crossentropy', optimizer='adam', metrics=['accuracy'])\n",
        "xmodel_2.compile(loss='binary_crossentropy', optimizer='RMSprop', metrics=['accuracy'])\n",
        "xmodel_3.compile(loss='binary_crossentropy', optimizer='RMSprop', metrics=['accuracy'])\n",
        "xmodel_4.compile(loss='binary_crossentropy', optimizer='RMSprop', metrics=['accuracy'])\n",
        "\n",
        "total_epochs = 100\n",
        "completed_epochs = 0\n",
        "\n",
        "stored_accuracy = []\n",
        "stored_val_accuracy = []\n",
        "stored_loss = []\n",
        "stored_val_loss = []\n",
        "\n",
        "train_model_1 = True\n",
        "train_model_2 = False\n",
        "train_model_3 = False\n",
        "train_model_4 = False\n",
        "\n",
        "open(\"debug.txt\", 'w')\n",
        "if train_model_1:\n",
        "  print(\"Training Model 1\")\n",
        "  history = xmodel.fit_generator(generator=training_batch_generator,\n",
        "            epochs=total_epochs,\n",
        "            steps_per_epoch = int(16000 // batch_size),\n",
        "            verbose = 1,\n",
        "            validation_data = test_batch_generator,\n",
        "            validation_steps = int(8000 // batch_size),\n",
        "            callbacks=[model_checkpoint_callback])\n",
        "\n",
        "\n",
        "if train_model_2:\n",
        "  print(\"Training Model 2\")\n",
        "  history_2 = xmodel_2.fit_generator(generator=training_batch_generator,\n",
        "            epochs=total_epochs,\n",
        "            steps_per_epoch = int(16000 // batch_size),\n",
        "            verbose = 1,\n",
        "            validation_data = test_batch_generator,\n",
        "            validation_steps = int(8000 // batch_size),\n",
        "            callbacks=[model_checkpoint_callback])\n",
        "\n",
        "if train_model_3:\n",
        "  print(\"Training Model 3\")\n",
        "  history_3 = xmodel_3.fit_generator(generator=training_batch_generator,\n",
        "            epochs=total_epochs,\n",
        "            steps_per_epoch = int(16000 // batch_size),\n",
        "            verbose = 1,\n",
        "            validation_data = test_batch_generator,\n",
        "            validation_steps = int(8000 // batch_size),\n",
        "            callbacks=[model_checkpoint_callback])\n",
        "\n",
        "if train_model_4:\n",
        "  print(\"Training Model 4\")\n",
        "  history_4 = xmodel_4.fit_generator(generator=training_batch_generator,\n",
        "            epochs=total_epochs,\n",
        "            steps_per_epoch = int(16000 // batch_size),\n",
        "            verbose = 1,\n",
        "            validation_data = test_batch_generator,\n",
        "            validation_steps = int(8000 // batch_size),\n",
        "            callbacks=[model_checkpoint_callback])\n",
        "\n",
        "# while completed_epochs < total_epochs:\n",
        "#     try:\n",
        "#         #remaining_epochs = total_epochs - completed_epochs\n",
        "#         history = xmodel.fit_generator(\n",
        "#             generator=training_batch_generator,\n",
        "#             epochs=1,\n",
        "#             steps_per_epoch=int(16000 // batch_size),\n",
        "#             verbose=1,\n",
        "#             validation_data=test_batch_generator,\n",
        "#             validation_steps=int(8000 // batch_size),\n",
        "#             callbacks=[model_checkpoint_callback],\n",
        "#             initial_epoch=completed_epochs\n",
        "#         )\n",
        "#         completed_epochs+=1\n",
        "#     except Exception as e:\n",
        "#         print(f\"An error occurred: {str(e)}\\n\")\n",
        "#         print(\"Data at this point:\\n\")\n",
        "#         print(history.history['accuracy'])\n",
        "#         print(history.history['val_accuracy'])\n",
        "#         print(history.history['loss'])\n",
        "#         print(history.history['val_loss'])\n",
        "#         stored_accuracy.extend(history.history['accuracy'])\n",
        "#         stored_val_accuracy.extend(history.history['val_accuracy'])\n",
        "#         stored_loss.extend(history.history['loss'])\n",
        "#         stored_val_loss.extend(history.history['val_loss'])\n",
        "\n",
        "#         print(\"Attempting to restart training...\")\n",
        "#         # completed_epochs += len(history.history['loss'])\n",
        "#         #xmodel = keras.models.load_model('/content/checkpoint/checkpoint')\n",
        "\n",
        "# print(\"Training completed\")\n",
        "\n"
      ]
    },
    {
      "cell_type": "markdown",
      "metadata": {
        "id": "28_dyL3kSWht"
      },
      "source": [
        "Print Results"
      ]
    },
    {
      "cell_type": "code",
      "execution_count": null,
      "metadata": {
        "colab": {
          "base_uri": "https://localhost:8080/"
        },
        "id": "LHH3yBpyNh0K",
        "outputId": "8317a5a1-c893-4e94-dacb-4124d3dd60c2"
      },
      "outputs": [
        {
          "output_type": "stream",
          "name": "stdout",
          "text": [
            "Model 2\n",
            "________________________\n",
            "Accuracy\n",
            "0.2328750044107437, 0.4166874885559082, 0.46818751096725464, 0.48906248807907104, 0.5121874809265137, 0.5470625162124634, 0.5753124952316284, 0.5993124842643738, 0.6044374704360962, 0.612375020980835, 0.6306250095367432, 0.6281874775886536, 0.6433749794960022, 0.651562511920929, 0.6540625095367432, 0.6541249752044678, 0.6570000052452087, 0.6576250195503235, 0.6697499752044678, 0.6588125228881836\n",
            "0.6654999852180481, 0.6748124957084656, 0.6802499890327454, 0.6779999732971191, 0.6790624856948853, 0.6866875290870667, 0.6915000081062317, 0.6856874823570251, 0.6919375061988831, 0.6919999718666077, 0.6957499980926514, 0.6970000267028809, 0.6956250071525574, 0.6989374756813049, 0.7023749947547913, 0.7014374732971191, 0.7049999833106995, 0.7010625004768372, 0.7073749899864197, 0.7043125033378601\n",
            "0.7098749876022339, 0.7167500257492065, 0.7108749747276306, 0.7158125042915344, 0.7174375057220459, 0.7233750224113464, 0.7176874876022339, 0.723437488079071, 0.7164999842643738, 0.7300000190734863, 0.7214375138282776, 0.7317500114440918, 0.7301874756813049, 0.7361249923706055, 0.734000027179718, 0.7294374704360962, 0.7300000190734863, 0.7308124899864197, 0.734499990940094, 0.734624981880188\n",
            "0.7298750281333923, 0.7348124980926514, 0.7368124723434448, 0.7369375228881836, 0.7330625057220459, 0.7372499704360962, 0.7354999780654907, 0.7414374947547913, 0.7414374947547913, 0.7401875257492065, 0.7409374713897705, 0.737625002861023, 0.7459999918937683, 0.7415624856948853, 0.7381250262260437, 0.7434375286102295, 0.7455624938011169, 0.7481874823570251, 0.745187520980835, 0.7451249957084656\n",
            "0.7511875033378601, 0.7416874766349792, 0.7415624856948853, 0.7406250238418579, 0.7464374899864197, 0.7416874766349792, 0.7450624704360962, 0.7482500076293945, 0.7452499866485596, 0.745437502861023, 0.7456250190734863, 0.7512500286102295, 0.745437502861023, 0.7535625100135803, 0.750124990940094, 0.7495625019073486, 0.7442499995231628, 0.745312511920929, 0.7511249780654907, 0.754687488079071\n",
            "\n",
            "\n",
            "Validation Accuracy\n",
            "0.3568750023841858, 0.4657500088214874, 0.5012500286102295, 0.5189999938011169, 0.5540000200271606, 0.574874997138977, 0.5896250009536743, 0.6194999814033508, 0.6202499866485596, 0.6491249799728394, 0.6478750109672546, 0.6503750085830688, 0.6806250214576721, 0.6815000176429749, 0.6685000061988831, 0.6653749942779541, 0.6641250252723694, 0.6806250214576721, 0.6788750290870667, 0.6802499890327454\n",
            "0.6887500286102295, 0.6790000200271606, 0.690750002861023, 0.706250011920929, 0.7002500295639038, 0.7123749852180481, 0.7074999809265137, 0.7147499918937683, 0.7178750038146973, 0.7128750085830688, 0.7223749756813049, 0.7262499928474426, 0.7216249704360962, 0.7279999852180481, 0.7354999780654907, 0.7390000224113464, 0.7310000061988831, 0.7352499961853027, 0.7417500019073486, 0.7251250147819519\n",
            "0.7356250286102295, 0.7434999942779541, 0.746999979019165, 0.7517499923706055, 0.7390000224113464, 0.7488750219345093, 0.7465000152587891, 0.7441250085830688, 0.7522500157356262, 0.7507500052452087, 0.7471250295639038, 0.7552499771118164, 0.7457500100135803, 0.753250002861023, 0.7621250152587891, 0.7533749938011169, 0.7568749785423279, 0.7507500052452087, 0.7556250095367432, 0.7481250166893005\n",
            "0.7637500166893005, 0.7563750147819519, 0.7607499957084656, 0.7574999928474426, 0.749625027179718, 0.7620000243186951, 0.7577499747276306, 0.7702500224113464, 0.7578750252723694, 0.7682499885559082, 0.762499988079071, 0.7672500014305115, 0.7639999985694885, 0.7738749980926514, 0.7633749842643738, 0.7663750052452087, 0.7743750214576721, 0.7732499837875366, 0.7714999914169312, 0.7651249766349792\n",
            "0.7633749842643738, 0.7747499942779541, 0.7661250233650208, 0.7756249904632568, 0.7636250257492065, 0.7680000066757202, 0.7636250257492065, 0.7806249856948853, 0.7770000100135803, 0.7764999866485596, 0.7795000076293945, 0.7708749771118164, 0.7723749876022339, 0.7726250290870667, 0.7787500023841858, 0.7825000286102295, 0.7746250033378601, 0.7827500104904175, 0.7691249847412109, 0.7670000195503235\n",
            "\n",
            "\n",
            "Loss\n",
            "0.30079466104507446, 0.24765942990779877, 0.22644637525081635, 0.2163543701171875, 0.20638884603977203, 0.19466468691825867, 0.18675938248634338, 0.18146350979804993, 0.1807049661874771, 0.17558836936950684, 0.1723800152540207, 0.17183300852775574, 0.16605131328105927, 0.16299258172512054, 0.161758691072464, 0.1621396541595459, 0.15917277336120605, 0.16000676155090332, 0.155762180685997, 0.1583963930606842\n",
            "0.1560729444026947, 0.15293008089065552, 0.15079647302627563, 0.15197545289993286, 0.14964213967323303, 0.14845101535320282, 0.14768582582473755, 0.1491813212633133, 0.14635053277015686, 0.14606954157352448, 0.14522655308246613, 0.14425714313983917, 0.14437243342399597, 0.1435118168592453, 0.14336667954921722, 0.14185620844364166, 0.14147791266441345, 0.14356741309165955, 0.14024971425533295, 0.14030365645885468\n",
            "0.1391233205795288, 0.13726958632469177, 0.13978171348571777, 0.13626165688037872, 0.13735657930374146, 0.13437987864017487, 0.13660728931427002, 0.13481129705905914, 0.13789217174053192, 0.13268254697322845, 0.13612578809261322, 0.13301336765289307, 0.13288722932338715, 0.13162502646446228, 0.13222338259220123, 0.1334284394979477, 0.13392512500286102, 0.131859689950943, 0.1303912252187729, 0.1299794465303421\n",
            "0.13297532498836517, 0.13159042596817017, 0.132737934589386, 0.13052953779697418, 0.1321219950914383, 0.13129566609859467, 0.13074328005313873, 0.12977132201194763, 0.1285932958126068, 0.13147884607315063, 0.12977097928524017, 0.13059432804584503, 0.12871861457824707, 0.1306256651878357, 0.13137789070606232, 0.12895019352436066, 0.1283474862575531, 0.1288270205259323, 0.13053466379642487, 0.12827886641025543\n",
            "0.1273762285709381, 0.12986637651920319, 0.12882207334041595, 0.13100498914718628, 0.12930798530578613, 0.12911494076251984, 0.12829604744911194, 0.12725010514259338, 0.12882927060127258, 0.12750037014484406, 0.12919962406158447, 0.1267952024936676, 0.12828412652015686, 0.12715792655944824, 0.12629863619804382, 0.12761202454566956, 0.1303655356168747, 0.12909281253814697, 0.12824900448322296, 0.12746506929397583\n",
            "\n",
            "\n",
            "Validation Loss\n",
            "0.27484601736068726, 0.23056074976921082, 0.21527260541915894, 0.20216456055641174, 0.19273443520069122, 0.18817727267742157, 0.18244419991970062, 0.18070054054260254, 0.17933239042758942, 0.16258256137371063, 0.1649894416332245, 0.1628662496805191, 0.15552102029323578, 0.15045444667339325, 0.15559028089046478, 0.15557889640331268, 0.1536988615989685, 0.14964231848716736, 0.14820662140846252, 0.14907962083816528\n",
            "0.14517845213413239, 0.14905089139938354, 0.15056046843528748, 0.14112740755081177, 0.139254629611969, 0.13809488713741302, 0.1408623903989792, 0.1368468999862671, 0.13532158732414246, 0.1359630823135376, 0.13436821103096008, 0.13327619433403015, 0.13417471945285797, 0.13175909221172333, 0.13037705421447754, 0.1297244429588318, 0.13107803463935852, 0.1258934885263443, 0.1301063597202301, 0.13047794997692108\n",
            "0.13345199823379517, 0.12322699278593063, 0.12403880059719086, 0.1254526674747467, 0.12529824674129486, 0.12377467751502991, 0.1228141114115715, 0.12798303365707397, 0.11980949342250824, 0.12138155847787857, 0.12656639516353607, 0.12097954005002975, 0.13297905027866364, 0.12452417612075806, 0.12022890895605087, 0.12147260457277298, 0.12188343703746796, 0.12089504301548004, 0.11961949616670609, 0.1216842383146286\n",
            "0.11680508404970169, 0.11940596997737885, 0.11669845879077911, 0.12239055335521698, 0.12357963621616364, 0.12061670422554016, 0.11954111605882645, 0.12107181549072266, 0.11682476848363876, 0.12008263170719147, 0.1184394359588623, 0.11752265691757202, 0.11874733865261078, 0.11349793523550034, 0.11765331029891968, 0.11732836067676544, 0.11415570974349976, 0.11402127891778946, 0.116921566426754, 0.13072675466537476\n",
            "0.1204492598772049, 0.11262737959623337, 0.11570507287979126, 0.11172495037317276, 0.12050629407167435, 0.11429685354232788, 0.11708863079547882, 0.11162213981151581, 0.11284687370061874, 0.11079450696706772, 0.11529528349637985, 0.1158723384141922, 0.11484355479478836, 0.11434642225503922, 0.112274169921875, 0.11077136546373367, 0.11684002727270126, 0.1065540686249733, 0.11907394975423813, 0.11741137504577637\n",
            "\n",
            "\n"
          ]
        }
      ],
      "source": [
        "def stringify_list(lst):\n",
        "    return ', '.join(str(item) for item in lst)\n",
        "\n",
        "def print_in_chunks(lst, chunk_size=20):\n",
        "    for i in range(0, len(lst), chunk_size):\n",
        "        print(stringify_list(lst[i:i + chunk_size]))\n",
        "    print(\"\\n\")\n",
        "\n",
        "# print(\"Model 1\")\n",
        "# print(\"________________________\")\n",
        "# print(\"Accuracy\")\n",
        "# print_in_chunks(history.history['accuracy'])\n",
        "# print(\"Validation Accuracy\")\n",
        "# print_in_chunks(history.history['val_accuracy'])\n",
        "# print(\"Loss\")\n",
        "# print_in_chunks(history.history['loss'])\n",
        "# print(\"Validation Loss\")\n",
        "# print_in_chunks(history.history['val_loss'])\n",
        "\n",
        "print(\"Model 2\")\n",
        "print(\"________________________\")\n",
        "print(\"Accuracy\")\n",
        "print_in_chunks(history_2.history['accuracy'])\n",
        "print(\"Validation Accuracy\")\n",
        "print_in_chunks(history_2.history['val_accuracy'])\n",
        "print(\"Loss\")\n",
        "print_in_chunks(history_2.history['loss'])\n",
        "print(\"Validation Loss\")\n",
        "print_in_chunks(history_2.history['val_loss'])"
      ]
    },
    {
      "cell_type": "markdown",
      "metadata": {
        "id": "1ofX9xy1Sd7X"
      },
      "source": [
        "Plot Results"
      ]
    },
    {
      "cell_type": "code",
      "execution_count": null,
      "metadata": {
        "colab": {
          "base_uri": "https://localhost:8080/",
          "height": 962
        },
        "id": "-FyG2XPqRlz2",
        "outputId": "72726f50-bf17-41fd-8d1a-90ae75e21e83"
      },
      "outputs": [
        {
          "output_type": "stream",
          "name": "stdout",
          "text": [
            "Model 4\n",
            "________________________\n"
          ]
        },
        {
          "output_type": "display_data",
          "data": {
            "text/plain": [
              "<Figure size 640x480 with 1 Axes>"
            ],
            "image/png": "[encoded data removed]"
          },
          "metadata": {}
        },
        {
          "output_type": "display_data",
          "data": {
            "text/plain": [
              "<Figure size 640x480 with 1 Axes>"
            ],
            "image/png": "[encoded data removed]"
          },
          "metadata": {}
        }
      ],
      "source": [
        "# # Plot training & validation accuracy values\n",
        "\n",
        "if train_model_1:\n",
        "  print(\"Model 1\")\n",
        "  print(\"________________________\")\n",
        "  plt.plot(history.history['accuracy'])\n",
        "  plt.plot(history.history['val_accuracy'])\n",
        "  plt.title('Model accuracy')\n",
        "  plt.ylabel('Accuracy')\n",
        "  plt.xlabel('Epoch')\n",
        "  plt.legend(['Train', 'Test'], loc='upper left')\n",
        "  plt.show()\n",
        "\n",
        "  # Plot training & validation loss values\n",
        "  plt.plot(history.history['loss'])\n",
        "  plt.plot(history.history['val_loss'])\n",
        "  plt.title('Model loss')\n",
        "  plt.ylabel('Loss')\n",
        "  plt.xlabel('Epoch')\n",
        "  plt.legend(['Train', 'Test'], loc='upper left')\n",
        "  plt.show()\n",
        "\n",
        "if train_model_2:\n",
        "  print(\"Model 2\")\n",
        "  print(\"________________________\")\n",
        "  plt.plot(history_2.history['accuracy'])\n",
        "  plt.plot(history_2.history['val_accuracy'])\n",
        "  plt.title('Model accuracy')\n",
        "  plt.ylabel('Accuracy')\n",
        "  plt.xlabel('Epoch')\n",
        "  plt.legend(['Train', 'Test'], loc='upper left')\n",
        "  plt.show()\n",
        "\n",
        "  # Plot training & validation loss values\n",
        "  plt.plot(history_2.history['loss'])\n",
        "  plt.plot(history_2.history['val_loss'])\n",
        "  plt.title('Model loss')\n",
        "  plt.ylabel('Loss')\n",
        "  plt.xlabel('Epoch')\n",
        "  plt.legend(['Train', 'Test'], loc='upper left')\n",
        "  plt.show()\n",
        "\n",
        "if train_model_3:\n",
        "  print(\"Model 3\")\n",
        "  print(\"________________________\")\n",
        "  plt.plot(history_3.history['accuracy'])\n",
        "  plt.plot(history_3.history['val_accuracy'])\n",
        "  plt.title('Model accuracy')\n",
        "  plt.ylabel('Accuracy')\n",
        "  plt.xlabel('Epoch')\n",
        "  plt.legend(['Train', 'Test'], loc='upper left')\n",
        "  plt.show()\n",
        "\n",
        "  # Plot training & validation loss values\n",
        "  plt.plot(history_3.history['loss'])\n",
        "  plt.plot(history_3.history['val_loss'])\n",
        "  plt.title('Model loss')\n",
        "  plt.ylabel('Loss')\n",
        "  plt.xlabel('Epoch')\n",
        "  plt.legend(['Train', 'Test'], loc='upper left')\n",
        "  plt.show()\n",
        "\n",
        "if train_model_4:\n",
        "  print(\"Model 4\")\n",
        "  print(\"________________________\")\n",
        "  plt.plot(history_4.history['accuracy'])\n",
        "  plt.plot(history_4.history['val_accuracy'])\n",
        "  plt.title('Model accuracy')\n",
        "  plt.ylabel('Accuracy')\n",
        "  plt.xlabel('Epoch')\n",
        "  plt.legend(['Train', 'Test'], loc='upper left')\n",
        "  plt.show()\n",
        "\n",
        "  # Plot training & validation loss values\n",
        "  plt.plot(history_4.history['loss'])\n",
        "  plt.plot(history_4.history['val_loss'])\n",
        "  plt.title('Model loss')\n",
        "  plt.ylabel('Loss')\n",
        "  plt.xlabel('Epoch')\n",
        "  plt.legend(['Train', 'Test'], loc='upper left')\n",
        "  plt.show()"
      ]
    },
    {
      "cell_type": "markdown",
      "metadata": {
        "id": "PK1UjEPASm6Z"
      },
      "source": [
        "Format Results in XLSX"
      ]
    },
    {
      "cell_type": "code",
      "execution_count": null,
      "metadata": {
        "colab": {
          "base_uri": "https://localhost:8080/"
        },
        "id": "ZilsX-A1Sp1A",
        "outputId": "fe80726d-ee75-4695-df03-9b0ad72dfbe1"
      },
      "outputs": [
        {
          "output_type": "stream",
          "name": "stderr",
          "text": [
            "<ipython-input-52-6919f6e54501>:28: FutureWarning: save is not part of the public API, usage can give unexpected results and will be removed in a future version\n",
            "  writer.save()\n"
          ]
        }
      ],
      "source": [
        "import pandas as pd\n",
        "\n",
        "\n",
        "def save_metrics_to_excel(loss, accuracy, val_loss, val_accuracy, filename='metrics.xlsx'):\n",
        "    # Creating a DataFrame from the input lists\n",
        "    data = {\n",
        "        'Epochs': list(range(1, len(accuracy) + 1)),\n",
        "        'Loss': loss,\n",
        "        'Accuracy': accuracy,\n",
        "        'Test Set Loss': val_loss,\n",
        "        'Test Set Accuracy': val_accuracy\n",
        "    }\n",
        "    df = pd.DataFrame(data)\n",
        "\n",
        "    # Creating a writer object and not saving the DataFrame immediately\n",
        "    writer = pd.ExcelWriter(filename, engine='openpyxl')\n",
        "\n",
        "    # Splitting the DataFrame into groups of 20 and writing each group to the Excel file\n",
        "    epochs_per_group = 20\n",
        "    start_row = 0\n",
        "    for i in range(0, len(df), epochs_per_group):\n",
        "        end_row = min(i + epochs_per_group, len(df))\n",
        "        df_group = df.iloc[i:end_row].T\n",
        "        df_group.to_excel(writer, startrow=start_row, header=False, index=True)\n",
        "        start_row += epochs_per_group + 4  # 4 extra rows (2 for data and 2 as spacer)\n",
        "\n",
        "    # Saving the Excel file\n",
        "    writer.save()\n",
        "\n",
        "#save_metrics_to_excel(history.history['loss'], history.history['accuracy'], history.history['val_loss'], history.history['val_accuracy'])\n",
        "\n",
        "save_metrics_to_excel(history_2.history['loss'], history_2.history['accuracy'], history_2.history['val_loss'], history_2.history['val_accuracy'], \"metrics_2.xlsx\")"
      ]
    },
    {
      "cell_type": "markdown",
      "metadata": {
        "id": "oPjm4DoUclSy"
      },
      "source": [
        "Find Model Accuracy With Test Dataset"
      ]
    },
    {
      "cell_type": "code",
      "execution_count": null,
      "metadata": {
        "colab": {
          "base_uri": "https://localhost:8080/",
          "height": 445
        },
        "id": "X8LG8DQC9UvJ",
        "outputId": "cbae5ca0-f5d3-45e7-b52b-895d5cef6f5c"
      },
      "outputs": [
        {
          "output_type": "stream",
          "name": "stdout",
          "text": [
            "   10/36174 [..............................] - ETA: 7:16 - loss: 0.0899 - accuracy: 0.8156"
          ]
        },
        {
          "output_type": "stream",
          "name": "stderr",
          "text": [
            "<ipython-input-10-e29eb874733f>:12: DeprecationWarning: `np.int` is a deprecated alias for the builtin `int`. To silence this warning, use `int` by itself. Doing this will not modify any behavior and is safe. When replacing `np.int`, you may wish to use e.g. `np.int64` or `np.int32` to specify the precision. If you wish to review your current use, check the release note link for additional information.\n",
            "Deprecated in NumPy 1.20; for more details and guidance: https://numpy.org/devdocs/release/1.20.0-notes.html#deprecations\n",
            "  return (np.ceil(len(self.words) / float(self.batch_size))).astype(np.int)\n"
          ]
        },
        {
          "output_type": "stream",
          "name": "stdout",
          "text": [
            "15952/36174 [============>.................] - ETA: 3:32 - loss: 0.0926 - accuracy: 0.8165"
          ]
        },
        {
          "output_type": "error",
          "ename": "KeyboardInterrupt",
          "evalue": "",
          "traceback": [
            "\u001b[0;31m---------------------------------------------------------------------------\u001b[0m",
            "\u001b[0;31mKeyboardInterrupt\u001b[0m                         Traceback (most recent call last)",
            "\u001b[0;32m<ipython-input-27-617cef655baf>\u001b[0m in \u001b[0;36m<cell line: 1>\u001b[0;34m()\u001b[0m\n\u001b[0;32m----> 1\u001b[0;31m \u001b[0mtest_loss\u001b[0m\u001b[0;34m,\u001b[0m \u001b[0mtest_acc\u001b[0m \u001b[0;34m=\u001b[0m \u001b[0mxmodel_3\u001b[0m\u001b[0;34m.\u001b[0m\u001b[0mevaluate\u001b[0m\u001b[0;34m(\u001b[0m\u001b[0mvalidation_batch_generator\u001b[0m\u001b[0;34m)\u001b[0m\u001b[0;34m\u001b[0m\u001b[0;34m\u001b[0m\u001b[0m\n\u001b[0m\u001b[1;32m      2\u001b[0m \u001b[0mprint\u001b[0m\u001b[0;34m(\u001b[0m\u001b[0mtest_loss\u001b[0m\u001b[0;34m)\u001b[0m\u001b[0;34m\u001b[0m\u001b[0;34m\u001b[0m\u001b[0m\n\u001b[1;32m      3\u001b[0m \u001b[0mprint\u001b[0m\u001b[0;34m(\u001b[0m\u001b[0mtest_acc\u001b[0m\u001b[0;34m)\u001b[0m\u001b[0;34m\u001b[0m\u001b[0;34m\u001b[0m\u001b[0m\n",
            "\u001b[0;32m/usr/local/lib/python3.10/dist-packages/keras/src/utils/traceback_utils.py\u001b[0m in \u001b[0;36merror_handler\u001b[0;34m(*args, **kwargs)\u001b[0m\n\u001b[1;32m     63\u001b[0m         \u001b[0mfiltered_tb\u001b[0m \u001b[0;34m=\u001b[0m \u001b[0;32mNone\u001b[0m\u001b[0;34m\u001b[0m\u001b[0;34m\u001b[0m\u001b[0m\n\u001b[1;32m     64\u001b[0m         \u001b[0;32mtry\u001b[0m\u001b[0;34m:\u001b[0m\u001b[0;34m\u001b[0m\u001b[0;34m\u001b[0m\u001b[0m\n\u001b[0;32m---> 65\u001b[0;31m             \u001b[0;32mreturn\u001b[0m \u001b[0mfn\u001b[0m\u001b[0;34m(\u001b[0m\u001b[0;34m*\u001b[0m\u001b[0margs\u001b[0m\u001b[0;34m,\u001b[0m \u001b[0;34m**\u001b[0m\u001b[0mkwargs\u001b[0m\u001b[0;34m)\u001b[0m\u001b[0;34m\u001b[0m\u001b[0;34m\u001b[0m\u001b[0m\n\u001b[0m\u001b[1;32m     66\u001b[0m         \u001b[0;32mexcept\u001b[0m \u001b[0mException\u001b[0m \u001b[0;32mas\u001b[0m \u001b[0me\u001b[0m\u001b[0;34m:\u001b[0m\u001b[0;34m\u001b[0m\u001b[0;34m\u001b[0m\u001b[0m\n\u001b[1;32m     67\u001b[0m             \u001b[0mfiltered_tb\u001b[0m \u001b[0;34m=\u001b[0m \u001b[0m_process_traceback_frames\u001b[0m\u001b[0;34m(\u001b[0m\u001b[0me\u001b[0m\u001b[0;34m.\u001b[0m\u001b[0m__traceback__\u001b[0m\u001b[0;34m)\u001b[0m\u001b[0;34m\u001b[0m\u001b[0;34m\u001b[0m\u001b[0m\n",
            "\u001b[0;32m/usr/local/lib/python3.10/dist-packages/keras/src/engine/training.py\u001b[0m in \u001b[0;36mevaluate\u001b[0;34m(self, x, y, batch_size, verbose, sample_weight, steps, callbacks, max_queue_size, workers, use_multiprocessing, return_dict, **kwargs)\u001b[0m\n\u001b[1;32m   2294\u001b[0m                         ):\n\u001b[1;32m   2295\u001b[0m                             \u001b[0mcallbacks\u001b[0m\u001b[0;34m.\u001b[0m\u001b[0mon_test_batch_begin\u001b[0m\u001b[0;34m(\u001b[0m\u001b[0mstep\u001b[0m\u001b[0;34m)\u001b[0m\u001b[0;34m\u001b[0m\u001b[0;34m\u001b[0m\u001b[0m\n\u001b[0;32m-> 2296\u001b[0;31m                             logs = test_function_runner.run_step(\n\u001b[0m\u001b[1;32m   2297\u001b[0m                                 \u001b[0mdataset_or_iterator\u001b[0m\u001b[0;34m,\u001b[0m\u001b[0;34m\u001b[0m\u001b[0;34m\u001b[0m\u001b[0m\n\u001b[1;32m   2298\u001b[0m                                 \u001b[0mdata_handler\u001b[0m\u001b[0;34m,\u001b[0m\u001b[0;34m\u001b[0m\u001b[0;34m\u001b[0m\u001b[0m\n",
            "\u001b[0;32m/usr/local/lib/python3.10/dist-packages/keras/src/engine/training.py\u001b[0m in \u001b[0;36mrun_step\u001b[0;34m(self, dataset_or_iterator, data_handler, step, unused_shards)\u001b[0m\n\u001b[1;32m   4106\u001b[0m \u001b[0;34m\u001b[0m\u001b[0m\n\u001b[1;32m   4107\u001b[0m     \u001b[0;32mdef\u001b[0m \u001b[0mrun_step\u001b[0m\u001b[0;34m(\u001b[0m\u001b[0mself\u001b[0m\u001b[0;34m,\u001b[0m \u001b[0mdataset_or_iterator\u001b[0m\u001b[0;34m,\u001b[0m \u001b[0mdata_handler\u001b[0m\u001b[0;34m,\u001b[0m \u001b[0mstep\u001b[0m\u001b[0;34m,\u001b[0m \u001b[0munused_shards\u001b[0m\u001b[0;34m)\u001b[0m\u001b[0;34m:\u001b[0m\u001b[0;34m\u001b[0m\u001b[0;34m\u001b[0m\u001b[0m\n\u001b[0;32m-> 4108\u001b[0;31m         \u001b[0mtmp_logs\u001b[0m \u001b[0;34m=\u001b[0m \u001b[0mself\u001b[0m\u001b[0;34m.\u001b[0m\u001b[0m_function\u001b[0m\u001b[0;34m(\u001b[0m\u001b[0mdataset_or_iterator\u001b[0m\u001b[0;34m)\u001b[0m\u001b[0;34m\u001b[0m\u001b[0;34m\u001b[0m\u001b[0m\n\u001b[0m\u001b[1;32m   4109\u001b[0m         \u001b[0;32mif\u001b[0m \u001b[0mdata_handler\u001b[0m\u001b[0;34m.\u001b[0m\u001b[0mshould_sync\u001b[0m\u001b[0;34m:\u001b[0m\u001b[0;34m\u001b[0m\u001b[0;34m\u001b[0m\u001b[0m\n\u001b[1;32m   4110\u001b[0m             \u001b[0mcontext\u001b[0m\u001b[0;34m.\u001b[0m\u001b[0masync_wait\u001b[0m\u001b[0;34m(\u001b[0m\u001b[0;34m)\u001b[0m\u001b[0;34m\u001b[0m\u001b[0;34m\u001b[0m\u001b[0m\n",
            "\u001b[0;32m/usr/local/lib/python3.10/dist-packages/tensorflow/python/util/traceback_utils.py\u001b[0m in \u001b[0;36merror_handler\u001b[0;34m(*args, **kwargs)\u001b[0m\n\u001b[1;32m    148\u001b[0m     \u001b[0mfiltered_tb\u001b[0m \u001b[0;34m=\u001b[0m \u001b[0;32mNone\u001b[0m\u001b[0;34m\u001b[0m\u001b[0;34m\u001b[0m\u001b[0m\n\u001b[1;32m    149\u001b[0m     \u001b[0;32mtry\u001b[0m\u001b[0;34m:\u001b[0m\u001b[0;34m\u001b[0m\u001b[0;34m\u001b[0m\u001b[0m\n\u001b[0;32m--> 150\u001b[0;31m       \u001b[0;32mreturn\u001b[0m \u001b[0mfn\u001b[0m\u001b[0;34m(\u001b[0m\u001b[0;34m*\u001b[0m\u001b[0margs\u001b[0m\u001b[0;34m,\u001b[0m \u001b[0;34m**\u001b[0m\u001b[0mkwargs\u001b[0m\u001b[0;34m)\u001b[0m\u001b[0;34m\u001b[0m\u001b[0;34m\u001b[0m\u001b[0m\n\u001b[0m\u001b[1;32m    151\u001b[0m     \u001b[0;32mexcept\u001b[0m \u001b[0mException\u001b[0m \u001b[0;32mas\u001b[0m \u001b[0me\u001b[0m\u001b[0;34m:\u001b[0m\u001b[0;34m\u001b[0m\u001b[0;34m\u001b[0m\u001b[0m\n\u001b[1;32m    152\u001b[0m       \u001b[0mfiltered_tb\u001b[0m \u001b[0;34m=\u001b[0m \u001b[0m_process_traceback_frames\u001b[0m\u001b[0;34m(\u001b[0m\u001b[0me\u001b[0m\u001b[0;34m.\u001b[0m\u001b[0m__traceback__\u001b[0m\u001b[0;34m)\u001b[0m\u001b[0;34m\u001b[0m\u001b[0;34m\u001b[0m\u001b[0m\n",
            "\u001b[0;32m/usr/local/lib/python3.10/dist-packages/tensorflow/python/eager/polymorphic_function/polymorphic_function.py\u001b[0m in \u001b[0;36m__call__\u001b[0;34m(self, *args, **kwds)\u001b[0m\n\u001b[1;32m    830\u001b[0m \u001b[0;34m\u001b[0m\u001b[0m\n\u001b[1;32m    831\u001b[0m       \u001b[0;32mwith\u001b[0m \u001b[0mOptionalXlaContext\u001b[0m\u001b[0;34m(\u001b[0m\u001b[0mself\u001b[0m\u001b[0;34m.\u001b[0m\u001b[0m_jit_compile\u001b[0m\u001b[0;34m)\u001b[0m\u001b[0;34m:\u001b[0m\u001b[0;34m\u001b[0m\u001b[0;34m\u001b[0m\u001b[0m\n\u001b[0;32m--> 832\u001b[0;31m         \u001b[0mresult\u001b[0m \u001b[0;34m=\u001b[0m \u001b[0mself\u001b[0m\u001b[0;34m.\u001b[0m\u001b[0m_call\u001b[0m\u001b[0;34m(\u001b[0m\u001b[0;34m*\u001b[0m\u001b[0margs\u001b[0m\u001b[0;34m,\u001b[0m \u001b[0;34m**\u001b[0m\u001b[0mkwds\u001b[0m\u001b[0;34m)\u001b[0m\u001b[0;34m\u001b[0m\u001b[0;34m\u001b[0m\u001b[0m\n\u001b[0m\u001b[1;32m    833\u001b[0m \u001b[0;34m\u001b[0m\u001b[0m\n\u001b[1;32m    834\u001b[0m       \u001b[0mnew_tracing_count\u001b[0m \u001b[0;34m=\u001b[0m \u001b[0mself\u001b[0m\u001b[0;34m.\u001b[0m\u001b[0mexperimental_get_tracing_count\u001b[0m\u001b[0;34m(\u001b[0m\u001b[0;34m)\u001b[0m\u001b[0;34m\u001b[0m\u001b[0;34m\u001b[0m\u001b[0m\n",
            "\u001b[0;32m/usr/local/lib/python3.10/dist-packages/tensorflow/python/eager/polymorphic_function/polymorphic_function.py\u001b[0m in \u001b[0;36m_call\u001b[0;34m(self, *args, **kwds)\u001b[0m\n\u001b[1;32m    875\u001b[0m       \u001b[0;31m# In this case we have not created variables on the first call. So we can\u001b[0m\u001b[0;34m\u001b[0m\u001b[0;34m\u001b[0m\u001b[0m\n\u001b[1;32m    876\u001b[0m       \u001b[0;31m# run the first trace but we should fail if variables are created.\u001b[0m\u001b[0;34m\u001b[0m\u001b[0;34m\u001b[0m\u001b[0m\n\u001b[0;32m--> 877\u001b[0;31m       results = tracing_compilation.call_function(\n\u001b[0m\u001b[1;32m    878\u001b[0m           \u001b[0margs\u001b[0m\u001b[0;34m,\u001b[0m \u001b[0mkwds\u001b[0m\u001b[0;34m,\u001b[0m \u001b[0mself\u001b[0m\u001b[0;34m.\u001b[0m\u001b[0m_variable_creation_config\u001b[0m\u001b[0;34m\u001b[0m\u001b[0;34m\u001b[0m\u001b[0m\n\u001b[1;32m    879\u001b[0m       )\n",
            "\u001b[0;32m/usr/local/lib/python3.10/dist-packages/tensorflow/python/eager/polymorphic_function/tracing_compilation.py\u001b[0m in \u001b[0;36mcall_function\u001b[0;34m(args, kwargs, tracing_options)\u001b[0m\n\u001b[1;32m    137\u001b[0m   \u001b[0mbound_args\u001b[0m \u001b[0;34m=\u001b[0m \u001b[0mfunction\u001b[0m\u001b[0;34m.\u001b[0m\u001b[0mfunction_type\u001b[0m\u001b[0;34m.\u001b[0m\u001b[0mbind\u001b[0m\u001b[0;34m(\u001b[0m\u001b[0;34m*\u001b[0m\u001b[0margs\u001b[0m\u001b[0;34m,\u001b[0m \u001b[0;34m**\u001b[0m\u001b[0mkwargs\u001b[0m\u001b[0;34m)\u001b[0m\u001b[0;34m\u001b[0m\u001b[0;34m\u001b[0m\u001b[0m\n\u001b[1;32m    138\u001b[0m   \u001b[0mflat_inputs\u001b[0m \u001b[0;34m=\u001b[0m \u001b[0mfunction\u001b[0m\u001b[0;34m.\u001b[0m\u001b[0mfunction_type\u001b[0m\u001b[0;34m.\u001b[0m\u001b[0munpack_inputs\u001b[0m\u001b[0;34m(\u001b[0m\u001b[0mbound_args\u001b[0m\u001b[0;34m)\u001b[0m\u001b[0;34m\u001b[0m\u001b[0;34m\u001b[0m\u001b[0m\n\u001b[0;32m--> 139\u001b[0;31m   return function._call_flat(  # pylint: disable=protected-access\n\u001b[0m\u001b[1;32m    140\u001b[0m       \u001b[0mflat_inputs\u001b[0m\u001b[0;34m,\u001b[0m \u001b[0mcaptured_inputs\u001b[0m\u001b[0;34m=\u001b[0m\u001b[0mfunction\u001b[0m\u001b[0;34m.\u001b[0m\u001b[0mcaptured_inputs\u001b[0m\u001b[0;34m\u001b[0m\u001b[0;34m\u001b[0m\u001b[0m\n\u001b[1;32m    141\u001b[0m   )\n",
            "\u001b[0;32m/usr/local/lib/python3.10/dist-packages/tensorflow/python/eager/polymorphic_function/concrete_function.py\u001b[0m in \u001b[0;36m_call_flat\u001b[0;34m(self, tensor_inputs, captured_inputs)\u001b[0m\n\u001b[1;32m   1321\u001b[0m         and executing_eagerly):\n\u001b[1;32m   1322\u001b[0m       \u001b[0;31m# No tape is watching; skip to running the function.\u001b[0m\u001b[0;34m\u001b[0m\u001b[0;34m\u001b[0m\u001b[0m\n\u001b[0;32m-> 1323\u001b[0;31m       \u001b[0;32mreturn\u001b[0m \u001b[0mself\u001b[0m\u001b[0;34m.\u001b[0m\u001b[0m_inference_function\u001b[0m\u001b[0;34m.\u001b[0m\u001b[0mcall_preflattened\u001b[0m\u001b[0;34m(\u001b[0m\u001b[0margs\u001b[0m\u001b[0;34m)\u001b[0m\u001b[0;34m\u001b[0m\u001b[0;34m\u001b[0m\u001b[0m\n\u001b[0m\u001b[1;32m   1324\u001b[0m     forward_backward = self._select_forward_and_backward_functions(\n\u001b[1;32m   1325\u001b[0m         \u001b[0margs\u001b[0m\u001b[0;34m,\u001b[0m\u001b[0;34m\u001b[0m\u001b[0;34m\u001b[0m\u001b[0m\n",
            "\u001b[0;32m/usr/local/lib/python3.10/dist-packages/tensorflow/python/eager/polymorphic_function/atomic_function.py\u001b[0m in \u001b[0;36mcall_preflattened\u001b[0;34m(self, args)\u001b[0m\n\u001b[1;32m    214\u001b[0m   \u001b[0;32mdef\u001b[0m \u001b[0mcall_preflattened\u001b[0m\u001b[0;34m(\u001b[0m\u001b[0mself\u001b[0m\u001b[0;34m,\u001b[0m \u001b[0margs\u001b[0m\u001b[0;34m:\u001b[0m \u001b[0mSequence\u001b[0m\u001b[0;34m[\u001b[0m\u001b[0mcore\u001b[0m\u001b[0;34m.\u001b[0m\u001b[0mTensor\u001b[0m\u001b[0;34m]\u001b[0m\u001b[0;34m)\u001b[0m \u001b[0;34m->\u001b[0m \u001b[0mAny\u001b[0m\u001b[0;34m:\u001b[0m\u001b[0;34m\u001b[0m\u001b[0;34m\u001b[0m\u001b[0m\n\u001b[1;32m    215\u001b[0m     \u001b[0;34m\"\"\"Calls with flattened tensor inputs and returns the structured output.\"\"\"\u001b[0m\u001b[0;34m\u001b[0m\u001b[0;34m\u001b[0m\u001b[0m\n\u001b[0;32m--> 216\u001b[0;31m     \u001b[0mflat_outputs\u001b[0m \u001b[0;34m=\u001b[0m \u001b[0mself\u001b[0m\u001b[0;34m.\u001b[0m\u001b[0mcall_flat\u001b[0m\u001b[0;34m(\u001b[0m\u001b[0;34m*\u001b[0m\u001b[0margs\u001b[0m\u001b[0;34m)\u001b[0m\u001b[0;34m\u001b[0m\u001b[0;34m\u001b[0m\u001b[0m\n\u001b[0m\u001b[1;32m    217\u001b[0m     \u001b[0;32mreturn\u001b[0m \u001b[0mself\u001b[0m\u001b[0;34m.\u001b[0m\u001b[0mfunction_type\u001b[0m\u001b[0;34m.\u001b[0m\u001b[0mpack_output\u001b[0m\u001b[0;34m(\u001b[0m\u001b[0mflat_outputs\u001b[0m\u001b[0;34m)\u001b[0m\u001b[0;34m\u001b[0m\u001b[0;34m\u001b[0m\u001b[0m\n\u001b[1;32m    218\u001b[0m \u001b[0;34m\u001b[0m\u001b[0m\n",
            "\u001b[0;32m/usr/local/lib/python3.10/dist-packages/tensorflow/python/eager/polymorphic_function/atomic_function.py\u001b[0m in \u001b[0;36mcall_flat\u001b[0;34m(self, *args)\u001b[0m\n\u001b[1;32m    249\u001b[0m         \u001b[0;32mwith\u001b[0m \u001b[0mrecord\u001b[0m\u001b[0;34m.\u001b[0m\u001b[0mstop_recording\u001b[0m\u001b[0;34m(\u001b[0m\u001b[0;34m)\u001b[0m\u001b[0;34m:\u001b[0m\u001b[0;34m\u001b[0m\u001b[0;34m\u001b[0m\u001b[0m\n\u001b[1;32m    250\u001b[0m           \u001b[0;32mif\u001b[0m \u001b[0mself\u001b[0m\u001b[0;34m.\u001b[0m\u001b[0m_bound_context\u001b[0m\u001b[0;34m.\u001b[0m\u001b[0mexecuting_eagerly\u001b[0m\u001b[0;34m(\u001b[0m\u001b[0;34m)\u001b[0m\u001b[0;34m:\u001b[0m\u001b[0;34m\u001b[0m\u001b[0;34m\u001b[0m\u001b[0m\n\u001b[0;32m--> 251\u001b[0;31m             outputs = self._bound_context.call_function(\n\u001b[0m\u001b[1;32m    252\u001b[0m                 \u001b[0mself\u001b[0m\u001b[0;34m.\u001b[0m\u001b[0mname\u001b[0m\u001b[0;34m,\u001b[0m\u001b[0;34m\u001b[0m\u001b[0;34m\u001b[0m\u001b[0m\n\u001b[1;32m    253\u001b[0m                 \u001b[0mlist\u001b[0m\u001b[0;34m(\u001b[0m\u001b[0margs\u001b[0m\u001b[0;34m)\u001b[0m\u001b[0;34m,\u001b[0m\u001b[0;34m\u001b[0m\u001b[0;34m\u001b[0m\u001b[0m\n",
            "\u001b[0;31mKeyboardInterrupt\u001b[0m: "
          ]
        }
      ],
      "source": [
        "test_loss, test_acc = xmodel_3.evaluate(validation_batch_generator)\n",
        "print(test_loss)\n",
        "print(test_acc)\n"
      ]
    },
    {
      "cell_type": "markdown",
      "metadata": {
        "id": "yz60WkWAcehr"
      },
      "source": [
        "Manual Predictions"
      ]
    },
    {
      "cell_type": "code",
      "execution_count": null,
      "metadata": {
        "colab": {
          "base_uri": "https://localhost:8080/"
        },
        "id": "eTT81VCYC2wG",
        "outputId": "860e1752-c140-40ff-8be1-0b82fee639ed"
      },
      "outputs": [
        {
          "output_type": "stream",
          "name": "stdout",
          "text": [
            "1/1 [==============================] - 0s 34ms/step\n",
            "[[0.8968440890312195, 0.07915319502353668, 0.009240814484655857, 0.014761943370103836]]\n",
            "De\n"
          ]
        }
      ],
      "source": [
        "languages = ['De', 'En', 'Es', 'Fr']\n",
        "Z = xmodel.predict([word_to_one_hot(\"lieben\")])\n",
        "results = Z.tolist()\n",
        "print(results)\n",
        "#print(calculate_percentages(Z.tolist()))\n",
        "print(languages[np.argmax(Z)])"
      ]
    }
  ],
  "metadata": {
    "accelerator": "GPU",
    "colab": {
      "provenance": [],
      "machine_shape": "hm",
      "gpuType": "A100"
    },
    "kernelspec": {
      "display_name": "Python 3",
      "name": "python3"
    },
    "language_info": {
      "name": "python"
    }
  },
  "nbformat": 4,
  "nbformat_minor": 0
}